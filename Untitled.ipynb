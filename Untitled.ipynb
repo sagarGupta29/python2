{
 "cells": [
  {
   "cell_type": "code",
   "execution_count": 1,
   "metadata": {},
   "outputs": [
    {
     "name": "stdout",
     "output_type": "stream",
     "text": [
      "hello keshav\n"
     ]
    }
   ],
   "source": [
    "print (\"hello keshav\")"
   ]
  },
  {
   "cell_type": "code",
   "execution_count": 2,
   "metadata": {},
   "outputs": [
    {
     "name": "stdout",
     "output_type": "stream",
     "text": [
      "5\n",
      "5.5\n",
      "keshav\n"
     ]
    }
   ],
   "source": [
    "a=5\n",
    "b=5.5\n",
    "c='keshav'\n",
    "print(a)\n",
    "print(b)\n",
    "print(c)"
   ]
  },
  {
   "cell_type": "code",
   "execution_count": 3,
   "metadata": {},
   "outputs": [
    {
     "name": "stdout",
     "output_type": "stream",
     "text": [
      "('keshav', 'vijay')\n"
     ]
    }
   ],
   "source": [
    "a='keshav'\n",
    "b='vijay'\n",
    "task=(a,b)\n",
    "print(task)"
   ]
  },
  {
   "cell_type": "code",
   "execution_count": 4,
   "metadata": {},
   "outputs": [
    {
     "name": "stdout",
     "output_type": "stream",
     "text": [
      "26\n",
      "1296\n",
      "-20\n"
     ]
    }
   ],
   "source": [
    "a=3\n",
    "b=6\n",
    "c=8\n",
    "d=9\n",
    "add=(a+b+c+d)\n",
    "minus=(a-b-c-d)\n",
    "multification=(a*b*c*d)\n",
    "print( add)\n",
    "print(multification)\n",
    "print( minus)"
   ]
  },
  {
   "cell_type": "code",
   "execution_count": 5,
   "metadata": {},
   "outputs": [
    {
     "name": "stdout",
     "output_type": "stream",
     "text": [
      "5\n"
     ]
    }
   ],
   "source": [
    "a=5.5\n",
    "b=int(a)\n",
    "print(b)"
   ]
  },
  {
   "cell_type": "code",
   "execution_count": 6,
   "metadata": {},
   "outputs": [
    {
     "name": "stdout",
     "output_type": "stream",
     "text": [
      "5.0\n"
     ]
    }
   ],
   "source": [
    "a=5\n",
    "b=float(a)\n",
    "print(b)"
   ]
  },
  {
   "cell_type": "code",
   "execution_count": 7,
   "metadata": {},
   "outputs": [
    {
     "name": "stdout",
     "output_type": "stream",
     "text": [
      "5\n"
     ]
    }
   ],
   "source": [
    "a=5\n",
    "b=str(a)\n",
    "print(b)"
   ]
  },
  {
   "cell_type": "code",
   "execution_count": 8,
   "metadata": {},
   "outputs": [
    {
     "data": {
      "text/plain": [
       "'keshav'"
      ]
     },
     "execution_count": 8,
     "metadata": {},
     "output_type": "execute_result"
    }
   ],
   "source": [
    "a='keshavvijay'\n",
    "a[:6]\n"
   ]
  },
  {
   "cell_type": "code",
   "execution_count": 9,
   "metadata": {},
   "outputs": [
    {
     "data": {
      "text/plain": [
       "'eshav'"
      ]
     },
     "execution_count": 9,
     "metadata": {},
     "output_type": "execute_result"
    }
   ],
   "source": [
    "a='hello_keshav'\n",
    "a[7:]"
   ]
  },
  {
   "cell_type": "code",
   "execution_count": 10,
   "metadata": {},
   "outputs": [
    {
     "data": {
      "text/plain": [
       "'_keshav'"
      ]
     },
     "execution_count": 10,
     "metadata": {},
     "output_type": "execute_result"
    }
   ],
   "source": [
    "a='hello_keshav'\n",
    "a[5:]"
   ]
  },
  {
   "cell_type": "code",
   "execution_count": 11,
   "metadata": {},
   "outputs": [
    {
     "data": {
      "text/plain": [
       "'ke'"
      ]
     },
     "execution_count": 11,
     "metadata": {},
     "output_type": "execute_result"
    }
   ],
   "source": [
    "a='hello_keshav'\n",
    "a[6:8]"
   ]
  },
  {
   "cell_type": "code",
   "execution_count": 12,
   "metadata": {},
   "outputs": [
    {
     "data": {
      "text/plain": [
       "18"
      ]
     },
     "execution_count": 12,
     "metadata": {},
     "output_type": "execute_result"
    }
   ],
   "source": [
    "a='keshavvijayvergiya'\n",
    "len(a)\n"
   ]
  },
  {
   "cell_type": "code",
   "execution_count": 13,
   "metadata": {},
   "outputs": [
    {
     "data": {
      "text/plain": [
       "'sawaimadhopur'"
      ]
     },
     "execution_count": 13,
     "metadata": {},
     "output_type": "execute_result"
    }
   ],
   "source": [
    "b='SawaiMadhopur'\n",
    "b.lower()"
   ]
  },
  {
   "cell_type": "code",
   "execution_count": 14,
   "metadata": {},
   "outputs": [
    {
     "data": {
      "text/plain": [
       "'hello'"
      ]
     },
     "execution_count": 14,
     "metadata": {},
     "output_type": "execute_result"
    }
   ],
   "source": [
    "f=' hello '\n",
    "f.strip()"
   ]
  },
  {
   "cell_type": "code",
   "execution_count": 15,
   "metadata": {},
   "outputs": [
    {
     "data": {
      "text/plain": [
       "'sawaimadhopur'"
      ]
     },
     "execution_count": 15,
     "metadata": {},
     "output_type": "execute_result"
    }
   ],
   "source": [
    "f='keshav'\n",
    " \n",
    "f.replace( 'keshav','sawaimadhopur')\n"
   ]
  },
  {
   "cell_type": "code",
   "execution_count": 16,
   "metadata": {},
   "outputs": [
    {
     "data": {
      "text/plain": [
       "'KESHAVVIJAY'"
      ]
     },
     "execution_count": 16,
     "metadata": {},
     "output_type": "execute_result"
    }
   ],
   "source": [
    "a='KeshavVIJAY'\n",
    "a.upper()"
   ]
  },
  {
   "cell_type": "code",
   "execution_count": 17,
   "metadata": {},
   "outputs": [
    {
     "data": {
      "text/plain": [
       "'heaao'"
      ]
     },
     "execution_count": 17,
     "metadata": {},
     "output_type": "execute_result"
    }
   ],
   "source": [
    "f='hello'\n",
    "\n",
    "f.replace('l','a')\n"
   ]
  },
  {
   "cell_type": "code",
   "execution_count": 18,
   "metadata": {},
   "outputs": [
    {
     "data": {
      "text/plain": [
       "'hego'"
      ]
     },
     "execution_count": 18,
     "metadata": {},
     "output_type": "execute_result"
    }
   ],
   "source": [
    "f='hello'\n",
    "\n",
    "f.replace('ll','g')"
   ]
  },
  {
   "cell_type": "code",
   "execution_count": 19,
   "metadata": {},
   "outputs": [
    {
     "data": {
      "text/plain": [
       "'kevaavvijayvergiya'"
      ]
     },
     "execution_count": 19,
     "metadata": {},
     "output_type": "execute_result"
    }
   ],
   "source": [
    "a='keshavvijayvergiya'\n",
    " \n",
    "a.replace('sh','va')\n"
   ]
  },
  {
   "cell_type": "code",
   "execution_count": 20,
   "metadata": {},
   "outputs": [
    {
     "data": {
      "text/plain": [
       "'kevaavvijayvergiya'"
      ]
     },
     "execution_count": 20,
     "metadata": {},
     "output_type": "execute_result"
    }
   ],
   "source": [
    "a='keshavvijayvergiya'\n",
    "\n",
    "a.replace('sh','va')\n"
   ]
  },
  {
   "cell_type": "code",
   "execution_count": 21,
   "metadata": {},
   "outputs": [
    {
     "data": {
      "text/plain": [
       "'kebav vijayvergiya'"
      ]
     },
     "execution_count": 21,
     "metadata": {},
     "output_type": "execute_result"
    }
   ],
   "source": [
    "a='keshav vijayvergiya'\n",
    "a.replace(\"sh\",\"b\")"
   ]
  },
  {
   "cell_type": "code",
   "execution_count": 22,
   "metadata": {},
   "outputs": [
    {
     "data": {
      "text/plain": [
       "'kebav vijayvergiya'"
      ]
     },
     "execution_count": 22,
     "metadata": {},
     "output_type": "execute_result"
    }
   ],
   "source": [
    "a.replace(\"sh\",\"b\")"
   ]
  },
  {
   "cell_type": "code",
   "execution_count": 23,
   "metadata": {},
   "outputs": [
    {
     "data": {
      "text/plain": [
       "'keshav kijayvergiya'"
      ]
     },
     "execution_count": 23,
     "metadata": {},
     "output_type": "execute_result"
    }
   ],
   "source": [
    "a.replace(\"vi\",\"ki\")"
   ]
  },
  {
   "cell_type": "code",
   "execution_count": 24,
   "metadata": {
    "scrolled": true
   },
   "outputs": [
    {
     "name": "stdout",
     "output_type": "stream",
     "text": [
      "19 my age is\n"
     ]
    }
   ],
   "source": [
    "a='19 '\n",
    "b='my age is'\n",
    "print(a+b)"
   ]
  },
  {
   "cell_type": "code",
   "execution_count": 25,
   "metadata": {},
   "outputs": [
    {
     "name": "stdout",
     "output_type": "stream",
     "text": [
      "[1, 2, 3, 4]\n"
     ]
    },
    {
     "data": {
      "text/plain": [
       "3"
      ]
     },
     "execution_count": 25,
     "metadata": {},
     "output_type": "execute_result"
    }
   ],
   "source": [
    "l=[1,2,3,4]\n",
    "print(l)\n",
    "l[2]"
   ]
  },
  {
   "cell_type": "code",
   "execution_count": 26,
   "metadata": {},
   "outputs": [
    {
     "name": "stdout",
     "output_type": "stream",
     "text": [
      "[1, 2, 50, 4]\n"
     ]
    }
   ],
   "source": [
    "t=[1,2,3,4]\n",
    "t[2]=50\n",
    "print(t)    "
   ]
  },
  {
   "cell_type": "code",
   "execution_count": 27,
   "metadata": {},
   "outputs": [
    {
     "name": "stdout",
     "output_type": "stream",
     "text": [
      "(1, 2, 3, 4)\n"
     ]
    }
   ],
   "source": [
    "t=(1,2,3,4)\n",
    "print(t)"
   ]
  },
  {
   "cell_type": "code",
   "execution_count": 28,
   "metadata": {},
   "outputs": [
    {
     "ename": "TypeError",
     "evalue": "'tuple' object does not support item assignment",
     "output_type": "error",
     "traceback": [
      "\u001b[1;31m---------------------------------------------------------------------------\u001b[0m",
      "\u001b[1;31mTypeError\u001b[0m                                 Traceback (most recent call last)",
      "\u001b[1;32m<ipython-input-28-57bc9e955cb8>\u001b[0m in \u001b[0;36m<module>\u001b[1;34m\u001b[0m\n\u001b[0;32m      1\u001b[0m \u001b[0mt\u001b[0m\u001b[1;33m=\u001b[0m\u001b[1;33m(\u001b[0m\u001b[1;36m1\u001b[0m\u001b[1;33m,\u001b[0m\u001b[1;36m2\u001b[0m\u001b[1;33m,\u001b[0m\u001b[1;36m3\u001b[0m\u001b[1;33m,\u001b[0m\u001b[1;36m4\u001b[0m\u001b[1;33m)\u001b[0m\u001b[1;33m\u001b[0m\u001b[1;33m\u001b[0m\u001b[0m\n\u001b[1;32m----> 2\u001b[1;33m \u001b[0mt\u001b[0m\u001b[1;33m[\u001b[0m\u001b[1;36m3\u001b[0m\u001b[1;33m]\u001b[0m\u001b[1;33m=\u001b[0m\u001b[1;36m50\u001b[0m\u001b[1;33m\u001b[0m\u001b[1;33m\u001b[0m\u001b[0m\n\u001b[0m\u001b[0;32m      3\u001b[0m \u001b[0mprint\u001b[0m\u001b[1;33m(\u001b[0m\u001b[0mt\u001b[0m\u001b[1;33m)\u001b[0m\u001b[1;33m\u001b[0m\u001b[1;33m\u001b[0m\u001b[0m\n",
      "\u001b[1;31mTypeError\u001b[0m: 'tuple' object does not support item assignment"
     ]
    }
   ],
   "source": [
    "t=(1,2,3,4)\n",
    "t[3]=50\n",
    "print(t)"
   ]
  },
  {
   "cell_type": "code",
   "execution_count": null,
   "metadata": {},
   "outputs": [],
   "source": [
    "l=[1,2,3,4]\n",
    "\n",
    "l.append(50)"
   ]
  },
  {
   "cell_type": "code",
   "execution_count": null,
   "metadata": {},
   "outputs": [],
   "source": [
    "l"
   ]
  },
  {
   "cell_type": "code",
   "execution_count": null,
   "metadata": {},
   "outputs": [],
   "source": [
    "len(l)"
   ]
  },
  {
   "cell_type": "code",
   "execution_count": null,
   "metadata": {},
   "outputs": [],
   "source": [
    "l.pop()"
   ]
  },
  {
   "cell_type": "code",
   "execution_count": null,
   "metadata": {},
   "outputs": [],
   "source": [
    "l"
   ]
  },
  {
   "cell_type": "code",
   "execution_count": null,
   "metadata": {},
   "outputs": [],
   "source": [
    "l.pop(2)"
   ]
  },
  {
   "cell_type": "code",
   "execution_count": null,
   "metadata": {},
   "outputs": [],
   "source": [
    "l"
   ]
  },
  {
   "cell_type": "code",
   "execution_count": null,
   "metadata": {},
   "outputs": [],
   "source": [
    "l.pop(0)"
   ]
  },
  {
   "cell_type": "code",
   "execution_count": null,
   "metadata": {},
   "outputs": [],
   "source": [
    "l"
   ]
  },
  {
   "cell_type": "code",
   "execution_count": null,
   "metadata": {},
   "outputs": [],
   "source": [
    "l.append(55)"
   ]
  },
  {
   "cell_type": "code",
   "execution_count": null,
   "metadata": {},
   "outputs": [],
   "source": [
    "l"
   ]
  },
  {
   "cell_type": "code",
   "execution_count": null,
   "metadata": {},
   "outputs": [],
   "source": [
    "l.append(45)"
   ]
  },
  {
   "cell_type": "code",
   "execution_count": null,
   "metadata": {},
   "outputs": [],
   "source": [
    "l"
   ]
  },
  {
   "cell_type": "code",
   "execution_count": null,
   "metadata": {},
   "outputs": [],
   "source": [
    "l.append(56)"
   ]
  },
  {
   "cell_type": "code",
   "execution_count": null,
   "metadata": {},
   "outputs": [],
   "source": [
    "l"
   ]
  },
  {
   "cell_type": "code",
   "execution_count": null,
   "metadata": {},
   "outputs": [],
   "source": [
    "l.pop(2)\n",
    "l"
   ]
  },
  {
   "cell_type": "code",
   "execution_count": null,
   "metadata": {},
   "outputs": [],
   "source": [
    "l.insert(2,79)\n",
    "l"
   ]
  },
  {
   "cell_type": "code",
   "execution_count": null,
   "metadata": {},
   "outputs": [],
   "source": [
    "l.remove(45)\n",
    "l"
   ]
  },
  {
   "cell_type": "code",
   "execution_count": null,
   "metadata": {},
   "outputs": [],
   "source": [
    "l.pop(1)\n",
    "l"
   ]
  },
  {
   "cell_type": "code",
   "execution_count": null,
   "metadata": {},
   "outputs": [],
   "source": [
    "l=[1,34,56,78]\n",
    "j=l.copy()"
   ]
  },
  {
   "cell_type": "code",
   "execution_count": null,
   "metadata": {},
   "outputs": [],
   "source": [
    "j"
   ]
  },
  {
   "cell_type": "code",
   "execution_count": null,
   "metadata": {},
   "outputs": [],
   "source": [
    "l.sort()"
   ]
  },
  {
   "cell_type": "code",
   "execution_count": null,
   "metadata": {},
   "outputs": [],
   "source": [
    "l"
   ]
  },
  {
   "cell_type": "code",
   "execution_count": null,
   "metadata": {},
   "outputs": [],
   "source": []
  },
  {
   "cell_type": "code",
   "execution_count": null,
   "metadata": {},
   "outputs": [],
   "source": [
    "l.sort()\n"
   ]
  },
  {
   "cell_type": "code",
   "execution_count": null,
   "metadata": {},
   "outputs": [],
   "source": [
    "l"
   ]
  },
  {
   "cell_type": "code",
   "execution_count": null,
   "metadata": {},
   "outputs": [],
   "source": [
    "a='my name is keshav'\n",
    "a.split()"
   ]
  },
  {
   "cell_type": "code",
   "execution_count": null,
   "metadata": {},
   "outputs": [],
   "source": [
    "l=[1,45,98,16]\n",
    "l.sort()"
   ]
  },
  {
   "cell_type": "code",
   "execution_count": null,
   "metadata": {
    "scrolled": false
   },
   "outputs": [],
   "source": [
    "d={'a':'name','b':'class','c':'name'}\n",
    "\n",
    "d"
   ]
  },
  {
   "cell_type": "code",
   "execution_count": null,
   "metadata": {},
   "outputs": [],
   "source": [
    "d['a']"
   ]
  },
  {
   "cell_type": "code",
   "execution_count": null,
   "metadata": {},
   "outputs": [],
   "source": [
    "d['a']='keshav'"
   ]
  },
  {
   "cell_type": "code",
   "execution_count": null,
   "metadata": {},
   "outputs": [],
   "source": [
    "d"
   ]
  },
  {
   "cell_type": "code",
   "execution_count": null,
   "metadata": {},
   "outputs": [],
   "source": [
    "d.pop('a')"
   ]
  },
  {
   "cell_type": "code",
   "execution_count": null,
   "metadata": {},
   "outputs": [],
   "source": [
    "d"
   ]
  },
  {
   "cell_type": "code",
   "execution_count": null,
   "metadata": {},
   "outputs": [],
   "source": [
    "len(d)"
   ]
  },
  {
   "cell_type": "code",
   "execution_count": null,
   "metadata": {},
   "outputs": [],
   "source": [
    "d={'a':'name','b':'class'}"
   ]
  },
  {
   "cell_type": "code",
   "execution_count": null,
   "metadata": {},
   "outputs": [],
   "source": [
    "d"
   ]
  },
  {
   "cell_type": "code",
   "execution_count": null,
   "metadata": {},
   "outputs": [],
   "source": [
    "d.popitem()"
   ]
  },
  {
   "cell_type": "code",
   "execution_count": null,
   "metadata": {},
   "outputs": [],
   "source": [
    "d"
   ]
  },
  {
   "cell_type": "code",
   "execution_count": 29,
   "metadata": {},
   "outputs": [
    {
     "ename": "AttributeError",
     "evalue": "'int' object has no attribute 'copy'",
     "output_type": "error",
     "traceback": [
      "\u001b[1;31m---------------------------------------------------------------------------\u001b[0m",
      "\u001b[1;31mAttributeError\u001b[0m                            Traceback (most recent call last)",
      "\u001b[1;32m<ipython-input-29-813e305c91a2>\u001b[0m in \u001b[0;36m<module>\u001b[1;34m\u001b[0m\n\u001b[1;32m----> 1\u001b[1;33m \u001b[0mg\u001b[0m\u001b[1;33m=\u001b[0m\u001b[0md\u001b[0m\u001b[1;33m.\u001b[0m\u001b[0mcopy\u001b[0m\u001b[1;33m(\u001b[0m\u001b[1;33m)\u001b[0m\u001b[1;33m\u001b[0m\u001b[1;33m\u001b[0m\u001b[0m\n\u001b[0m\u001b[0;32m      2\u001b[0m \u001b[0mprint\u001b[0m\u001b[1;33m(\u001b[0m\u001b[0mg\u001b[0m\u001b[1;33m)\u001b[0m\u001b[1;33m\u001b[0m\u001b[1;33m\u001b[0m\u001b[0m\n",
      "\u001b[1;31mAttributeError\u001b[0m: 'int' object has no attribute 'copy'"
     ]
    }
   ],
   "source": [
    "g=d.copy()\n",
    "print(g)"
   ]
  },
  {
   "cell_type": "code",
   "execution_count": 30,
   "metadata": {},
   "outputs": [
    {
     "data": {
      "text/plain": [
       "9"
      ]
     },
     "execution_count": 30,
     "metadata": {},
     "output_type": "execute_result"
    }
   ],
   "source": [
    "d"
   ]
  },
  {
   "cell_type": "code",
   "execution_count": 31,
   "metadata": {},
   "outputs": [],
   "source": [
    "j={'a':'aame','a':'bmerica','b':'pop','c':'pop'}"
   ]
  },
  {
   "cell_type": "code",
   "execution_count": 32,
   "metadata": {},
   "outputs": [
    {
     "data": {
      "text/plain": [
       "{'a': 'bmerica', 'b': 'pop', 'c': 'pop'}"
      ]
     },
     "execution_count": 32,
     "metadata": {},
     "output_type": "execute_result"
    }
   ],
   "source": [
    "j"
   ]
  },
  {
   "cell_type": "code",
   "execution_count": 33,
   "metadata": {},
   "outputs": [
    {
     "data": {
      "text/plain": [
       "{'a': 'bmerica', 'b': 'pop', 'c': 'pop'}"
      ]
     },
     "execution_count": 33,
     "metadata": {},
     "output_type": "execute_result"
    }
   ],
   "source": [
    "j"
   ]
  },
  {
   "cell_type": "code",
   "execution_count": 34,
   "metadata": {},
   "outputs": [
    {
     "data": {
      "text/plain": [
       "{'a': 'bmerica', 'b': 'pop', 'c': 'pop'}"
      ]
     },
     "execution_count": 34,
     "metadata": {},
     "output_type": "execute_result"
    }
   ],
   "source": [
    "j"
   ]
  },
  {
   "cell_type": "code",
   "execution_count": 35,
   "metadata": {},
   "outputs": [
    {
     "data": {
      "text/plain": [
       "{'a': 'bmerica', 'b': 'pop', 'c': 'pop'}"
      ]
     },
     "execution_count": 35,
     "metadata": {},
     "output_type": "execute_result"
    }
   ],
   "source": [
    "j"
   ]
  },
  {
   "cell_type": "code",
   "execution_count": 36,
   "metadata": {},
   "outputs": [
    {
     "data": {
      "text/plain": [
       "{'a': 'bmerica', 'b': 'pop', 'c': 'pop'}"
      ]
     },
     "execution_count": 36,
     "metadata": {},
     "output_type": "execute_result"
    }
   ],
   "source": [
    "j"
   ]
  },
  {
   "cell_type": "code",
   "execution_count": 37,
   "metadata": {},
   "outputs": [],
   "source": [
    "import webbrowser as wb\n",
    "\n"
   ]
  },
  {
   "cell_type": "code",
   "execution_count": 38,
   "metadata": {},
   "outputs": [
    {
     "data": {
      "text/plain": [
       "True"
      ]
     },
     "execution_count": 38,
     "metadata": {},
     "output_type": "execute_result"
    }
   ],
   "source": [
    "wb.open_new_tab('www.google.com')"
   ]
  },
  {
   "cell_type": "code",
   "execution_count": 39,
   "metadata": {},
   "outputs": [
    {
     "data": {
      "text/plain": [
       "True"
      ]
     },
     "execution_count": 39,
     "metadata": {},
     "output_type": "execute_result"
    }
   ],
   "source": [
    "import webbrowser as wb\n",
    "\n",
    "wb.open_new_tab('https://www.youtube.com/results?search_query=kv')"
   ]
  },
  {
   "cell_type": "code",
   "execution_count": 40,
   "metadata": {},
   "outputs": [
    {
     "data": {
      "text/plain": [
       "True"
      ]
     },
     "execution_count": 40,
     "metadata": {},
     "output_type": "execute_result"
    }
   ],
   "source": [
    "wb.open_new_tab('https://www.google.com/search?q=b&oq=b&aqs=chrome..69i57j0l5.1968j0j8&sourceid=chrome&ie=UTF-8')"
   ]
  },
  {
   "cell_type": "code",
   "execution_count": 41,
   "metadata": {},
   "outputs": [
    {
     "name": "stdout",
     "output_type": "stream",
     "text": [
      "true statement\n"
     ]
    }
   ],
   "source": [
    "a=4\n",
    "b=5\n",
    "if(a>b):\n",
    "        print('false statement')\n",
    "else:\n",
    "        print('true statement')"
   ]
  },
  {
   "cell_type": "code",
   "execution_count": 42,
   "metadata": {},
   "outputs": [
    {
     "name": "stdout",
     "output_type": "stream",
     "text": [
      "true\n"
     ]
    }
   ],
   "source": [
    "if (a<b):\n",
    "    print('true')\n",
    "    \n",
    "else:\n",
    "    print('false')\n",
    "    "
   ]
  },
  {
   "cell_type": "code",
   "execution_count": 43,
   "metadata": {},
   "outputs": [
    {
     "name": "stdout",
     "output_type": "stream",
     "text": [
      "false\n"
     ]
    }
   ],
   "source": [
    "if (a>=b):\n",
    "    print('true')\n",
    "    \n",
    "else:\n",
    "    print('false')\n",
    "    "
   ]
  },
  {
   "cell_type": "code",
   "execution_count": 44,
   "metadata": {},
   "outputs": [
    {
     "name": "stdout",
     "output_type": "stream",
     "text": [
      "b is greater\n"
     ]
    }
   ],
   "source": [
    "if(a<=b):\n",
    "    if(a!=b):\n",
    "             print('b is greater')\n",
    "    else:\n",
    "         print('a and b is equal')\n",
    "else:\n",
    "    print('false relation')"
   ]
  },
  {
   "cell_type": "code",
   "execution_count": 45,
   "metadata": {},
   "outputs": [
    {
     "name": "stdout",
     "output_type": "stream",
     "text": [
      "false relation\n"
     ]
    }
   ],
   "source": [
    "a=5\n",
    "b=4\n",
    "if(a<=b):\n",
    "    if(a!=b):\n",
    "        print('b is greater')\n",
    "    else:\n",
    "        print('a and b is equal')\n",
    "else:\n",
    "    print('false relation')"
   ]
  },
  {
   "cell_type": "code",
   "execution_count": 46,
   "metadata": {},
   "outputs": [
    {
     "name": "stdout",
     "output_type": "stream",
     "text": [
      "hi\n"
     ]
    }
   ],
   "source": [
    "a=3\n",
    "b=4\n",
    "while(a<b):\n",
    "           print('hi')\n",
    "           break     "
   ]
  },
  {
   "cell_type": "code",
   "execution_count": 47,
   "metadata": {},
   "outputs": [
    {
     "ename": "SyntaxError",
     "evalue": "invalid syntax (<ipython-input-47-95e50ee4a9c2>, line 2)",
     "output_type": "error",
     "traceback": [
      "\u001b[1;36m  File \u001b[1;32m\"<ipython-input-47-95e50ee4a9c2>\"\u001b[1;36m, line \u001b[1;32m2\u001b[0m\n\u001b[1;33m    for i in a\u001b[0m\n\u001b[1;37m              ^\u001b[0m\n\u001b[1;31mSyntaxError\u001b[0m\u001b[1;31m:\u001b[0m invalid syntax\n"
     ]
    }
   ],
   "source": [
    "a=[1,2,30,45,5,6]\n",
    "for i in a\n",
    "         print(i)"
   ]
  },
  {
   "cell_type": "code",
   "execution_count": null,
   "metadata": {},
   "outputs": [],
   "source": [
    "a=[1,2,3,4,5,6]\n",
    "for i in a:\n",
    "         print(i)"
   ]
  },
  {
   "cell_type": "code",
   "execution_count": null,
   "metadata": {},
   "outputs": [],
   "source": [
    "b=['sudhanshu','rishabh','mehul','keshav']\n",
    "for m in b:\n",
    "           print(m)"
   ]
  },
  {
   "cell_type": "code",
   "execution_count": null,
   "metadata": {},
   "outputs": [],
   "source": [
    "b=['sudhanshu','rishabh','mehul','keshav']\n",
    "for m in b[0]:\n",
    "              print(m)"
   ]
  },
  {
   "cell_type": "code",
   "execution_count": null,
   "metadata": {},
   "outputs": [],
   "source": [
    "b=['sudhanshu','rishabh','mehul','keshav']\n",
    "for m in b[0]:\n",
    "              print(m)\n",
    "for n in b[1]:\n",
    "              print(n)"
   ]
  },
  {
   "cell_type": "code",
   "execution_count": null,
   "metadata": {},
   "outputs": [],
   "source": [
    "b=['sudhanshu','rishabh','mehul','keshav']\n",
    "for m in b[0]:\n",
    "              print(m)\n",
    "              for n in b[1]:\n",
    "                            print(n)"
   ]
  },
  {
   "cell_type": "code",
   "execution_count": null,
   "metadata": {},
   "outputs": [],
   "source": [
    "w=[1,3,5,7,9]\n",
    "for x in w:\n",
    "            if(w[0]<w[2]):\n",
    "                          print('correct')\n",
    "                         \n",
    "            else:\n",
    "                 print('wrong')\n",
    "                    \n",
    "            print(w[1],w[3])\n",
    "            break"
   ]
  },
  {
   "cell_type": "code",
   "execution_count": null,
   "metadata": {},
   "outputs": [],
   "source": [
    "def simple():\n",
    "        print(\"hello world\")\n",
    "simple()        "
   ]
  },
  {
   "cell_type": "code",
   "execution_count": null,
   "metadata": {},
   "outputs": [],
   "source": [
    "def simple():\n",
    "        print(\"hello world\")\n",
    "        w=[1,3,5,7,9]\n",
    "for x in w:\n",
    "            if(w[0]<w[2]):\n",
    "                          print('correct')\n",
    "                         \n",
    "            else:\n",
    "                 print('wrong')\n",
    "                    \n",
    "            print(w[1],w[3])\n",
    "            break\n",
    "            \n",
    "simple()        "
   ]
  },
  {
   "cell_type": "code",
   "execution_count": null,
   "metadata": {},
   "outputs": [],
   "source": [
    "def simple(a):\n",
    "        print(\"sudhanshu \"+a)\n",
    "simple('gupta')"
   ]
  },
  {
   "cell_type": "code",
   "execution_count": null,
   "metadata": {},
   "outputs": [],
   "source": [
    "a=[1,2,3,4,5]\n",
    "def fun(b):\n",
    "        print(\"this is list \"+b)\n",
    "fun(a)"
   ]
  },
  {
   "cell_type": "code",
   "execution_count": null,
   "metadata": {},
   "outputs": [],
   "source": [
    "def fun(a):\n",
    "       return 6+a\n",
    "fun(8)"
   ]
  },
  {
   "cell_type": "code",
   "execution_count": null,
   "metadata": {},
   "outputs": [],
   "source": [
    "def fun(a):\n",
    "       return a\n",
    "b=fun(8)"
   ]
  },
  {
   "cell_type": "code",
   "execution_count": null,
   "metadata": {},
   "outputs": [],
   "source": [
    "b"
   ]
  },
  {
   "cell_type": "code",
   "execution_count": null,
   "metadata": {},
   "outputs": [],
   "source": [
    "for i in range(10):\n",
    "        print(i)"
   ]
  },
  {
   "cell_type": "code",
   "execution_count": null,
   "metadata": {},
   "outputs": [],
   "source": [
    "for i in range(10,30):\n",
    "        print(i)"
   ]
  },
  {
   "cell_type": "code",
   "execution_count": null,
   "metadata": {},
   "outputs": [],
   "source": [
    "for i in range(10,30,3):\n",
    "        print(i)"
   ]
  },
  {
   "cell_type": "code",
   "execution_count": null,
   "metadata": {},
   "outputs": [],
   "source": [
    "def fun(a=[1,2,3,4])\n",
    "return a*5"
   ]
  },
  {
   "cell_type": "code",
   "execution_count": null,
   "metadata": {},
   "outputs": [],
   "source": [
    "for i in range(10,30):\n",
    "        print(i*2)"
   ]
  },
  {
   "cell_type": "code",
   "execution_count": null,
   "metadata": {},
   "outputs": [],
   "source": [
    "import pce\n",
    "pce.fun()\n"
   ]
  },
  {
   "cell_type": "code",
   "execution_count": null,
   "metadata": {},
   "outputs": [],
   "source": [
    "import datetime"
   ]
  },
  {
   "cell_type": "code",
   "execution_count": null,
   "metadata": {},
   "outputs": [],
   "source": [
    "import datetime as dt\n",
    "dt.datetime.now()"
   ]
  },
  {
   "cell_type": "code",
   "execution_count": null,
   "metadata": {},
   "outputs": [],
   "source": [
    "import datetime as dt\n",
    "x=dt.datetime.now()\n",
    "x.year"
   ]
  },
  {
   "cell_type": "code",
   "execution_count": null,
   "metadata": {},
   "outputs": [],
   "source": [
    "import time as tm\n",
    "tm.ctime()"
   ]
  },
  {
   "cell_type": "code",
   "execution_count": null,
   "metadata": {},
   "outputs": [],
   "source": [
    "try :0/0\n",
    "        print(\"t\")\n",
    "except:\n",
    "        print(\"e\")\n",
    "finally:\n",
    "     print(\"hello\")"
   ]
  },
  {
   "cell_type": "code",
   "execution_count": null,
   "metadata": {},
   "outputs": [],
   "source": [
    "try :0/0\n",
    "       \n",
    "except:print(\"e\")\n",
    "finally: print(\"hello\")"
   ]
  },
  {
   "cell_type": "code",
   "execution_count": 48,
   "metadata": {},
   "outputs": [],
   "source": [
    "import os"
   ]
  },
  {
   "cell_type": "code",
   "execution_count": 49,
   "metadata": {},
   "outputs": [
    {
     "data": {
      "text/plain": [
       "0"
      ]
     },
     "execution_count": 49,
     "metadata": {},
     "output_type": "execute_result"
    }
   ],
   "source": [
    "os.system('mkdir sudhanshu dir')"
   ]
  },
  {
   "cell_type": "code",
   "execution_count": 50,
   "metadata": {},
   "outputs": [
    {
     "data": {
      "text/plain": [
       "0"
      ]
     },
     "execution_count": 50,
     "metadata": {},
     "output_type": "execute_result"
    }
   ],
   "source": [
    "os.system('rmdir sudhanshu dir ')"
   ]
  },
  {
   "cell_type": "code",
   "execution_count": 51,
   "metadata": {},
   "outputs": [
    {
     "ename": "AttributeError",
     "evalue": "'str' object has no attribute 'open'",
     "output_type": "error",
     "traceback": [
      "\u001b[1;31m---------------------------------------------------------------------------\u001b[0m",
      "\u001b[1;31mAttributeError\u001b[0m                            Traceback (most recent call last)",
      "\u001b[1;32m<ipython-input-51-5adaffab5879>\u001b[0m in \u001b[0;36m<module>\u001b[1;34m\u001b[0m\n\u001b[1;32m----> 1\u001b[1;33m \u001b[0mf\u001b[0m\u001b[1;33m.\u001b[0m\u001b[0mopen\u001b[0m\u001b[1;33m(\u001b[0m\u001b[1;34m'abc.txt'\u001b[0m\u001b[1;33m,\u001b[0m\u001b[1;34m'w'\u001b[0m\u001b[1;33m)\u001b[0m\u001b[1;33m\u001b[0m\u001b[1;33m\u001b[0m\u001b[0m\n\u001b[0m\u001b[0;32m      2\u001b[0m \u001b[0mf\u001b[0m\u001b[1;33m.\u001b[0m\u001b[0mwrite\u001b[0m\u001b[1;33m(\u001b[0m\u001b[1;34m'sudhanshu'\u001b[0m\u001b[1;33m)\u001b[0m\u001b[1;33m\u001b[0m\u001b[1;33m\u001b[0m\u001b[0m\n\u001b[0;32m      3\u001b[0m \u001b[0mf\u001b[0m\u001b[1;33m.\u001b[0m\u001b[0mclose\u001b[0m\u001b[1;33m(\u001b[0m\u001b[1;33m)\u001b[0m\u001b[1;33m\u001b[0m\u001b[1;33m\u001b[0m\u001b[0m\n",
      "\u001b[1;31mAttributeError\u001b[0m: 'str' object has no attribute 'open'"
     ]
    }
   ],
   "source": [
    "f.open('abc.txt','w')\n",
    "f.write('sudhanshu')\n",
    "f.close()"
   ]
  },
  {
   "cell_type": "code",
   "execution_count": null,
   "metadata": {},
   "outputs": [],
   "source": [
    "f=open('abc.txt','w')\n",
    "f.write('sudhanshu')\n",
    "f.close()"
   ]
  },
  {
   "cell_type": "code",
   "execution_count": null,
   "metadata": {},
   "outputs": [],
   "source": [
    "f=open('abc.txt','a')\n",
    "f.write('sudhanshu')\n",
    "f.close()"
   ]
  },
  {
   "cell_type": "code",
   "execution_count": null,
   "metadata": {},
   "outputs": [],
   "source": [
    "f=open('abc.txt','r')\n",
    "f.read('sudhanshu')\n"
   ]
  },
  {
   "cell_type": "code",
   "execution_count": null,
   "metadata": {},
   "outputs": [],
   "source": [
    "f=open('abc.txt','r')\n",
    "f.read()"
   ]
  },
  {
   "cell_type": "code",
   "execution_count": null,
   "metadata": {},
   "outputs": [],
   "source": [
    "f=open('abc.txt','r')\n",
    "f.read()\n",
    "print('a')"
   ]
  },
  {
   "cell_type": "code",
   "execution_count": null,
   "metadata": {},
   "outputs": [],
   "source": [
    "import os"
   ]
  },
  {
   "cell_type": "code",
   "execution_count": null,
   "metadata": {},
   "outputs": [],
   "source": [
    "os.remove('')"
   ]
  },
  {
   "cell_type": "code",
   "execution_count": null,
   "metadata": {},
   "outputs": [],
   "source": [
    "os.remove('abc.txt')"
   ]
  },
  {
   "cell_type": "code",
   "execution_count": null,
   "metadata": {},
   "outputs": [],
   "source": [
    "f=open(\"sud\",\"w\")\n",
    "f.write(\"Live in SWM\")\n",
    "f.close()"
   ]
  },
  {
   "cell_type": "code",
   "execution_count": null,
   "metadata": {},
   "outputs": [],
   "source": [
    "f=open(\"sud\",\"a\")\n",
    "f.write(\"Housing Board\")\n",
    "f.close()"
   ]
  },
  {
   "cell_type": "code",
   "execution_count": null,
   "metadata": {},
   "outputs": [],
   "source": [
    "f=open(\"sud\",\"r\")\n",
    "f.read()"
   ]
  },
  {
   "cell_type": "code",
   "execution_count": null,
   "metadata": {},
   "outputs": [],
   "source": [
    "def fun(a):\n",
    "        print('hello')\n",
    "fun(a)"
   ]
  },
  {
   "cell_type": "code",
   "execution_count": null,
   "metadata": {},
   "outputs": [],
   "source": [
    "def fun(a):\n",
    "        print('hello '+a)\n",
    "fun('buddy')"
   ]
  },
  {
   "cell_type": "code",
   "execution_count": null,
   "metadata": {},
   "outputs": [],
   "source": [
    "def don(b):\n",
    "        print('hi '+b)\n",
    "don('buddy')"
   ]
  },
  {
   "cell_type": "code",
   "execution_count": null,
   "metadata": {},
   "outputs": [],
   "source": [
    "import threading\n",
    "def fun(a):\n",
    "        print('hello '+a)\n",
    "def don(b):\n",
    "        print('hi '+b)\n",
    "        \n"
   ]
  },
  {
   "cell_type": "code",
   "execution_count": 52,
   "metadata": {},
   "outputs": [
    {
     "ename": "NameError",
     "evalue": "name 'threading' is not defined",
     "output_type": "error",
     "traceback": [
      "\u001b[1;31m---------------------------------------------------------------------------\u001b[0m",
      "\u001b[1;31mNameError\u001b[0m                                 Traceback (most recent call last)",
      "\u001b[1;32m<ipython-input-52-01acc459499b>\u001b[0m in \u001b[0;36m<module>\u001b[1;34m\u001b[0m\n\u001b[0;32m      1\u001b[0m \u001b[0mif__name__\u001b[0m\u001b[1;33m=\u001b[0m\u001b[1;34m'__main__'\u001b[0m\u001b[1;33m\u001b[0m\u001b[1;33m\u001b[0m\u001b[0m\n\u001b[1;32m----> 2\u001b[1;33m \u001b[0mt1\u001b[0m\u001b[1;33m=\u001b[0m\u001b[0mthreading\u001b[0m\u001b[1;33m.\u001b[0m\u001b[0mThread\u001b[0m\u001b[1;33m(\u001b[0m\u001b[0mtarget\u001b[0m\u001b[1;33m=\u001b[0m\u001b[0mfun\u001b[0m\u001b[1;33m,\u001b[0m\u001b[0margs\u001b[0m\u001b[1;33m=\u001b[0m\u001b[1;33m(\u001b[0m\u001b[1;36m5\u001b[0m\u001b[1;33m,\u001b[0m\u001b[1;33m)\u001b[0m\u001b[1;33m)\u001b[0m\u001b[1;33m\u001b[0m\u001b[1;33m\u001b[0m\u001b[0m\n\u001b[0m\u001b[0;32m      3\u001b[0m \u001b[0mt2\u001b[0m\u001b[1;33m=\u001b[0m\u001b[0mthreading\u001b[0m\u001b[1;33m.\u001b[0m\u001b[0mThread\u001b[0m\u001b[1;33m(\u001b[0m\u001b[0mtarget\u001b[0m\u001b[1;33m=\u001b[0m\u001b[0mdon\u001b[0m\u001b[1;33m,\u001b[0m\u001b[0margs\u001b[0m\u001b[1;33m=\u001b[0m\u001b[1;33m(\u001b[0m\u001b[1;36m5\u001b[0m\u001b[1;33m,\u001b[0m\u001b[1;33m)\u001b[0m\u001b[1;33m)\u001b[0m\u001b[1;33m\u001b[0m\u001b[1;33m\u001b[0m\u001b[0m\n",
      "\u001b[1;31mNameError\u001b[0m: name 'threading' is not defined"
     ]
    }
   ],
   "source": [
    "if__name__='__main__'\n",
    "t1=threading.Thread(target=fun,args=(5,))\n",
    "t2=threading.Thread(target=don,args=(5,))"
   ]
  },
  {
   "cell_type": "code",
   "execution_count": null,
   "metadata": {},
   "outputs": [],
   "source": [
    "t1.start()\n",
    "t2.start()\n",
    "t1.join()\n",
    "t2.join()\n",
    "print('Sudhanshu')"
   ]
  },
  {
   "cell_type": "code",
   "execution_count": null,
   "metadata": {},
   "outputs": [],
   "source": [
    "import threading\n",
    "def sun(s):\n",
    "              print(\"python \"+s)\n",
    "a=2\n",
    "b=3\n",
    "if a<b:\n",
    "       print('hello')\n",
    "elif a==b:\n",
    "    print(\"yuup\")\n",
    "else:\n",
    "      print('hi')\n",
    "x=[1,2,3,4]\n",
    "for m in x:\n",
    "               print(m)\n",
    "try: 1/1\n",
    "       \n",
    "except: print(\"sudhanshu\")\n",
    "finally:(\"result\")  \n",
    "sun('run')    \n",
    "    \n",
    "        "
   ]
  },
  {
   "cell_type": "code",
   "execution_count": null,
   "metadata": {},
   "outputs": [],
   "source": [
    "f=open('abc.txt','w')\n",
    "f.write('sudhanshu')\n",
    "f.close()"
   ]
  },
  {
   "cell_type": "code",
   "execution_count": null,
   "metadata": {},
   "outputs": [],
   "source": [
    "f=open('abc.txt','a')\n",
    "f.write('sudhanshu')\n",
    "f.close()"
   ]
  },
  {
   "cell_type": "code",
   "execution_count": null,
   "metadata": {},
   "outputs": [],
   "source": [
    "f=open('abc.txt','r')\n",
    "f.read()"
   ]
  },
  {
   "cell_type": "code",
   "execution_count": null,
   "metadata": {},
   "outputs": [],
   "source": [
    "if__name='__main__'\n",
    "t=threading.Thread(target=sun,args=(5,))\n"
   ]
  },
  {
   "cell_type": "code",
   "execution_count": null,
   "metadata": {},
   "outputs": [],
   "source": [
    "t.start()\n",
    "t.join()\n",
    "print(\"program over\")"
   ]
  },
  {
   "cell_type": "code",
   "execution_count": 53,
   "metadata": {},
   "outputs": [],
   "source": [
    "import time\n",
    "a=time.ctime()"
   ]
  },
  {
   "cell_type": "code",
   "execution_count": 54,
   "metadata": {},
   "outputs": [],
   "source": [
    "b=a.split()"
   ]
  },
  {
   "cell_type": "code",
   "execution_count": 55,
   "metadata": {},
   "outputs": [
    {
     "data": {
      "text/plain": [
       "'12:57:11'"
      ]
     },
     "execution_count": 55,
     "metadata": {},
     "output_type": "execute_result"
    }
   ],
   "source": [
    "b[3]"
   ]
  },
  {
   "cell_type": "code",
   "execution_count": 56,
   "metadata": {},
   "outputs": [],
   "source": [
    "while True:\n",
    "    if (b[3]=='14:08:54'):\n",
    "                            print(\"hello\")\n",
    "    break"
   ]
  },
  {
   "cell_type": "code",
   "execution_count": 57,
   "metadata": {},
   "outputs": [
    {
     "name": "stdout",
     "output_type": "stream",
     "text": [
      "<Response [200]>\n"
     ]
    }
   ],
   "source": [
    "from bs4 import BeautifulSoup\n",
    "import requests\n",
    "url=requests.get('https://www.cricbuzz.com')\n",
    "print(url)"
   ]
  },
  {
   "cell_type": "code",
   "execution_count": 58,
   "metadata": {},
   "outputs": [
    {
     "data": {
      "text/plain": [
       "'\\r\\n\\r\\n<!DOCTYPE html><html lang=\"en\" itemscope itemtype=\"http://schema.org/WebPage\"><head><meta charset=\"utf-8\"><script>var is_mobile = /symbian|tizen|midp|uc(web|browser)|MSIE (5.0|6.0|7.0|8.0)|tablet/i.test(navigator.userAgent);\\tif(is_mobile && window.location.hostname != \"www1.cricbuzz.com\") window.location.hostname = \"m.cricbuzz.com\";</script><style>body{background:#E3E6E3; font-family: helvetica,\"Segoe UI\",Arial,sans-serif;color:#222;font-size:14px; line-height: 1.5; margin:0;}\\tbody, .cb-comm-pg, .cb-hm-mid {min-height:1000px}\\t.container{width:980px;margin:0 auto;}\\t.page{max-width: 980px;margin: 0 auto;position: relative;}\\t.cb-col-8 {width:8%;}\\t.cb-col-10 {width:10%;}\\t.cb-col-14 {width:14%;}\\t.cb-col-16 {width:16%;}\\t.cb-col-20 {width:20%;}\\t.cb-col-25 {width:25%;}\\t.cb-col-27 {width:27%;}\\t.cb-col-33 {width:33%;}\\t.cb-col-40 {width:40%;}\\t.cb-col-46 {width:46%;}\\t.cb-col-47 {width:47%;}\\t.cb-col-50 {width:50%;}\\t.cb-col-60 {width:60%;}\\t.cb-col-66 {width:66%;}\\t.cb-col-67 {width:67%;}\\t.cb-col-73 {width:73%;}\\t.cb-col-75 {width:75%;}\\t.cb-col-84 {width:84%;}\\t.cb-col-80 {width:80%;}\\t.cb-col-90{width:90%;}\\t.cb-col-100 {width:100%;}\\t.cb-col {display: inline-block;box-sizing: border-box;float: left; min-height: 1px;}\\th1 {font-size: 36px;line-height: 42px; margin:0;}\\th2 {font-size: 24px; margin:0; line-height: 30px;}\\th3 {font-size: 18px;line-height: 24px; margin:0; }\\th4 {font-size: 16px; margin:0; }\\th5 {font-size: 14px; margin: 0;}\\t.cb-font-18 {font-size:18px;}\\timg{border-radius: 4px;}\\ta {text-decoration: none; color:#222;}\\ta, a:hover, a:active, a:focus {outline: medium none;}\\t.text-center {text-align: center;}\\t.cb-nws-lft-col{padding:15px 20px;}\\t.cb-nws-dtl-lft-col {padding: 10px 30px 0 30px;border-right: 1px solid #ecebeb ;}\\t.cb-nws-lst-rt{padding-left: 10px;}\\t.cb-srs-lst-itm {padding: 10px 0;}\\t.cb-lst-itm-sm{padding:10px 0 5px;}\\t.cb-scrd-lft-col{padding:15px 10px;} .cb-col-rt{padding: 10px;}\\t.text-white{color: #fff;}\\t.cb-scrd-hdr-rw, .cb-nav-pill-1.active {background: #028062 ;color: #fff;}\\t.cb-nav{position:relative; height:48px;background: #009270;}\\t.cb-hm-mnu-itm{padding: 16px 6px 11px; color:#fff; display:inline-block;}\\t.cb-hm-text{padding:10px 18px 10px 20px;}\\t.cb-hm-rght{padding: 15px;}\\t.cb-subnav .cb-sub-navigation {display: none; position: absolute;}\\t.cb-mat-mnu{background:#4a4a4a; width:980px; font-size: 0;}\\t.cb-mat-mnu-itm{font-size:12px; color:#fff; padding:10px; cursor: pointer; display:inline-block; max-width: 140px;}\\t.cb-mat-mnu-ttl{background: #333; padding: 10px 20px;}\\t.cb-mat-mnu-wrp{margin-bottom: 10px;}\\t.cb-ovr-flo{overflow: hidden; white-space: nowrap; text-overflow: ellipsis;}\\t.cb-mat-mnu-all{text-align: center; float: right; width:60px;}\\t.cb-nav-main{border-bottom:1px solid #e3e6e3;padding:0 0 5px 20px;}\\t.cb-nav-bar{padding-top:10px;clear:both;}\\t.cb-lst-itm, .cb-bg-white{background: #fff;}\\t.cb-nav-tab.active, .cb-nav-tab-hm.active{ font-weight: bold; color: #028062;}\\t.cb-nav-tab.active {border-bottom: 3px solid #028062; line-height: 24px; }\\t.cb-nav-tab-hm.active{ border-bottom:2px solid #028062; line-height: 22px;}\\t.cb-nav-tab{margin-right:20px;padding-bottom:6px;}\\t.cb-nav-tab-hm{margin-right:15px;padding-bottom:6px;}\\t.cb-nav-hdr{padding-top:15px}\\t.cb-nav-subhdr{padding:5px 0 10px 0;}\\t.cb-lv-scr-mtch-hdr{line-height: 21px;font-size: 16px;}\\t.disp-none{display:none;}\\t.disp-blck{display:block;}\\t.cb-font-24{font-size: 24px;}\\t.line-ht30{line-height: 30px;}\\t.line-ht24{line-height: 24px;}\\t.cb-hm-scg-blk{background: #fff; margin-bottom: 5px; height:90px;}\\t.mrgn-btm-5{margin-bottom : 5px;}\\t#scagTabContent .show{display: block; visibility: visible;}\\t#scagTabContent .hide{display: none; visibility: hidden;}\\t[ng\\\\:cloak], [ng-cloak], [data-ng-cloak], [x-ng-cloak], .ng-cloak, .x-ng-cloak { display: none !important;}\\t.cb-hm-lft{margin-bottom:5px;padding:0 15px;}\\t.cb-hm-lft-hdr{margin:0; padding:15px 15px 0; color: #009270;} .cb-hm-mid {border-left: 5px solid #e3e6e3 ;border-right: 5px solid #e3e6e3 ;padding: 0 15px;} .cb-mtch-blk {border-right: 1px solid #ecebeb ;line-height: 1.4;margin: 15px 0;padding: 0 20px;}\\t.crd-cntxt{font-size: 12px; color:#666; padding-bottom: 10px;}\\t.big-crd-main{border-top: 1px solid #ecebeb;padding:15px 0 5px; margin-bottom: 1px;clear: both;} .big-crd-reltd-itm {margin: 0 0 10px; width:100%; display: inline-block;}\\t.cb-nws-time{font-size:12px; padding-bottom: 5px;}\\t.cb-nws-hdln-ancr{padding-bottom: 5px;}\\t.cb-hmscg-bwl-txt, .cb-hmscg-bat-txt{font-weight:bold; padding-bottom:4px; height:18px;}\\t.cb-hmscg-bwl-txt{color:#666;}\\t.sml-crd-main{padding: 15px 0 5px; width: 100%;}\\t.big-crd-hdln{margin: 10px 0;}\\t.big-crd-rltd-txt {font-weight: bold; margin:10px 0; color:#1866DB;} .cb-nws-intr {color: #666;padding-bottom: 5px;} .cb-lv-scrs-well {background: #f5f5f5 ;display: inline-block;margin: 10px 0;padding: 10px 5px;}\\t.cb-hm-mtch-crd-width{min-width:300px;}\\t.cb-mr-30{margin-right: 30px;} .cb-schdl-hdr {margin: 0;padding: 15px 0 10px 10px;} .cb-lst-itm-lg {padding: 20px 0;} .cb-left-pad {padding: 20px 10px 0;}\\t.cb-nav-pill-1 {background: #CFE0DB;border-radius: 20px;color: #222;cursor: pointer;margin-right: 15px;padding: 5px 20px;} .cb-mtch-lst {padding: 15px 0;}\\t.cb-nws-min-cntr{padding: 10px; background: #f5f5f5; color:#333; margin:10px 0 15px;}\\t.sml-crd-subtxt{margin:0 10px 10px;}\\t/*-------------------------Live Pages -----------------------*/\\t.cb-scrcrd-status{padding:0 0 10px 10px;}\\t.cb-scrd-hdr-rw{padding:8px 10px;}\\t.cb-bg-gray{background: #ecebeb;}\\t.cb-lv-grn-strip{background: #ecebeb;}\\t.cb-min-hdr-rw, .cb-scrd-sub-hdr{padding: 4px 10px; font-size: 12px; color: #666;}\\t.cb-scrd-itms{padding: 4px 10px; font-size: 13px;}\\t.cb-text-link {color: #1866DB;}\\t.text-bold{font-weight: bold;}\\t.text-normal{font-weight: normal;}\\t.cb-mat-fct-itm{padding: 5px 0;}\\t.cb-min-bat-rw{padding-bottom: 5px;}\\t.cb-nws-sub-txt, .cb-nws-sub-txt, .cb-font-12{font-size:12px;}\\t.cb-font-16{font-size:16px;}\\t.cb-font-20{font-size:20px;}\\t.cb-min-inf{padding-top:10px; margin-left: -10px; display: inline-block;}\\t.cb-min-itm-rw{padding:5px 10px 0;}\\t.text-right{text-align:right;}\\t.cb-key-st-lst{padding: 10px 0 0 5px; }\\t.cb-min-prw-time{padding:20px 0 0;}\\t.cb-toss-sts{padding: 10px 0 30px;}\\t.cb-min-rcnt{padding: 7px 10px; margin: 0 -10px 0;}\\t.cb-key-lst-wrp{border: 1px solid #ecebeb; padding-bottom: 15px; margin-right: -10px;}\\t.cb-min-tm{font-size: 18px; font-weight: bold;}\\t.cb-min-stts{padding: 20px 0;}\\t.cb-mom-itm{padding: 0 0 10px;}\\t.cb-lv-grn-strip {padding: 10px 10px 5px;}\\t.cb-ovr-num{padding-top:2px;}\\t.cb-min-pad{padding-left: 5px;}\\t/*Upcoming Series*/\\t.cb-mnth{margin-top: 10px; padding: 0 10px;}\\t.cb-sch-lst-itm {padding:10px 0; margin-left: 20px;border-bottom: 1px solid #ecebeb;}\\t/*Matches By Day*/\\t.cb-mtchs-dy{padding:20px 20px 20px 10px ;}\\t.cb-mtchs-dy-tm,.cb-mtchs-dy-vnu{padding:20px 20px 20px 0px;}\\t/*Schedule Teams*/\\t.cb-lv-upcom-strip{padding: 5px 10px;background: #ecebeb;}\\t/*Archives*/\\t.cb-srs-cat{padding:10px; color:#028062; }\\t.pad-left{padding-left:30px;}\\t.cb-arcv-yr{font-size:20px; padding: 0 0 5px 10px;font-weight: bold}\\t.cb-yr-tmline{padding: 2px 15px 15px 0;}\\t.cb-sch-tms-widgt{padding: 5px 10px; margin:5px 2px 2px 2px; background: #f5f5f5; border-radius: 0; border:0; display: inline-block;}\\t/*Photos*/\\t.cb-thmb-dark {background: #333333; box-shadow:none; border-radius:4px; border:none; padding:0;color:#CCC;}\\t.cb-pht-main {padding:20px 15px;margin: 0 -10px;}\\t.cb-pht-block{padding:9px;float:left;height:280px;box-sizing: border-box;} .cb-gallery-pht-block{padding: 9px 9px 9px 16px;}\\t.img-responsive{height:auto; max-width:100%;}\\t.center-block{margin-right: auto;margin-left: auto;}\\t.cb-schdl{padding:0 10px;line-height: 1.5;}\\t.cb-caret-up, .cb-caret-down{display: inline-block; width: 0; height: 0; margin-left: 4px; margin-bottom: 1px; border-right: 4px solid transparent; border-left: 4px solid transparent;}\\t.cb-caret-up{border-bottom: 4px solid;}\\t.cb-caret-down{border-top: 4px solid;}\\t.cb-hm-rt-itm{margin: 0 0 5px; padding: 10px 10px 5px;}\\t.cb-hmscg-tm-nm{display:inline-block; width: 60px;}\\t.pull-right,.cb-all-mtch-tab{float:right;}\\t.cb-skin-ads-close{display: none;}\\t.cb-nws-sub-txt{padding-top:10px;}\\t.nws-dtl-hdln{margin-top:10px;}\\t.cb-min-lv{min-height:270px}\\t.cb-min-comp{min-height:150px;}\\t.cb-ttl-vts{margin-top:20px;}\\t.cb-poll-radio{width: 5%;margin:4px 10px 0 0;}\\t.cb-mini-tim{padding-bottom:20px;}\\t.cb-com-ln{margin: 0 0 10px; line-height: 24px;}\\t.cb-comm-static{min-height:31px; margin: 0 -10px 10px;}\\t.cb-com-ovr-sum-ad{min-height: 31px;}\\t.cb-comm-static-anchr{margin:5px 10px; display: block;}\\t.ad-unit-rendered{margin-bottom: 5px;}\\t.cb-mm-wrp { max-height: 0px; -webkit-transition: max-height 0.35s ease; transition: max-height 0.35s ease; overflow: hidden; }\\t.cb-mm-wrp.down { max-height: 1000px; transition: max-height 0.75s ease; -webkit-transition: max-height 0.75s ease; overflow: hidden;} .cb-srs-hstry-dtl {padding:10px 15px;margin-top:20px; border-radius: 4px;}\\t.cb-qck-lnk{margin-bottom: 5px; padding:10px 15px;}\\t.cb-qck-hdr{padding-right: 15px; border-right: 1px solid #ecebeb ;}\\t.cb-qck-ancr{margin-left: 15px;}\\t.cb-lst-vid-rw{padding-bottom: 0; height: 64px; border: 1px solid #ecebeb; margin-right: -10px;}\\t.cb-auth-img{border-radius: 100%;}\\t.cb-expt-athr{vertical-align: top; padding: 5px 0 0 0; display: inline-block; font-size: 16px}\\t.inline-block{display: inline-block;}\\t.cb-exprt-athr-hdr{text-align: right;font-size: 42px;font-family: bodani; color: #fff;padding-right: 15px;line-height:44px;text-transform:uppercase;}\\t.cb-exprt-athr-hdr-tag{text-align: right;font-size: 24px;font-family: bodani; color: #fff;padding-right: 15px;font-style:italic;}\\t.cb-athr-wgt-wrp{border:1px solid #ecebeb; padding:15px; margin-bottom:20px;background:#f5f5f5;}\\t.cb-exprt-athr-hdr-img{background: url(\"/images/harsha-banner.jpg\") no-repeat scroll; height:80px;}\\t.cb-overflow-hidden{overflow: hidden;}\\t/*Videos*/\\t.cb-vid-sm-ply-api {color: #fff;line-height: 34px;font-size: 18px;margin-left: 3px;}\\t.cb-vid-sml-card-api {margin-top: 10px;height: auto;padding: 0 12px 0 11px;}\\t.cb-cat-head-wrap {padding: 0 12px 0 11px;}\\t.cb-cat-head-text {margin-top: 5px;line-height: 20px;}\\t.cb-more-btn {padding: 8px 20px;border-radius: 2px;color: #fff;background: #009270;border: 0;cursor: pointer;}\\t.cb-cat-head-link {float: right;padding: 5px 25px;margin-top: 10px;border-radius: 4px;}\\t.cb-pos-rel{position: relative;}\\t.cb-videos-cat {border-bottom: 1px solid #ecebeb;padding: 10px 3px 15px 4px;}\\t.cb-cat-head-text-wrap {float: left;}\\t.cb-cat-head-count {margin: 0;color: #666;}\\th2.cb-cat-head-text{font-size : 18px}\\t.cb-vid-sml-card-api-head {font-size: 14px;font-weight: bold;line-height: 18px;max-height: 55px;margin: 2px 0 5px;overflow: hidden;}\\t.cb-cen {position: absolute;top: 50%;left: 50%;opacity: .8;transform: translateX(-50%) translateY(-50%);-webkit-transform: translateX(-50%) translateY(-50%);-moz-transform: translateX(-50%) translateY(-50%);-ms-transform: translateX(-50%) translateY(-50%);-o-transform: translateX(-50%) translateY(-50%);background: #222;text-align: center;height: 35px;width: 35px;border-radius: 50px;}\\t.cb-cen:hover{opacity: 1;}\\t.padding-handling-errors{padding: 20px 0px 10px 15px;border-bottom: 1px solid #ecebeb;}\\t.cb-col .cb-align-cen{float: none; text-align: center; padding: 7px 25px; margin-top: 20px;}\\t.cb-align-cen{padding-top: 10px;}\\t.cb-hot-cat{max-width: 90px; text-align: center; padding-right: 0;}\\t.cb-hot-cat-img{width: 72px;}\\t.cb-vid-slider-arrs{position: absolute; top: 52px; left: 0; right: 0; z-index: 5;}\\t.cb-vid-slider-arr{position: absolute; z-index: 5; height: 43px; width: 43px; border-radius: 50%; cursor: pointer;}\\t.cb-vid-slider-arr-prev{display: none; left: 0;}\\t.cb-vid-slider-arr-next{right: 0;}\\t.videos-list-carousal{overflow: hidden; position: relative; height: 220px;}\\t.videos-carousal-wrapper{float: none; list-style: none; padding: 0; margin: 0; transition: all 0.3s ease; display: flex; flex-direction: row; position: absolute; left: 0;}\\t.videos-carousal-item{min-width: 25%; justify-content: center; align-items: center;}\\t.cb-vid-more{float: right; color: #2C3E9A; font-size: 18px;}\\t.cb-vid-more:hover{text-decoration: underline;}\\t.cat-vid-carousal{height: 135px !important;}\\t.cat-vid-carousal .videos-carousal-item{min-width: auto;}\\t.cat-vid-carousal .cb-vid-slider-arrs{top: 24px;}\\t.cb-srs-sqd-box{min-height: 700px; background: #fff;}\\t.cb-float-none{float: none;}\\t.cb-margin-top-10{margin-top: 10px;}\\t.cb-schdl-nvtb {margin: 0 0 10px 0;padding: 10px;}\\t.cb-carousal-item-small {padding: 0 0 0 16px;}\\t.cb-carousal-item-small:first-child {padding-left: 11px;}\\t.cb-carousal-item-large {padding: 0 11px;}\\t.cb-carousal-item-small .cb-vid-txt-wrp{font-size: 12px;}\\t.cb-hot-cat .cb-vid-txt-wrp{display: -webkit-box; -webkit-box-orient: vertical; -webkit-line-clamp: 2; overflow: hidden; max-height: 40px;}\\t/*Rankings*/\\t.cb-ranking-nav.active{line-height: 21px}\\t.cb-rank-plyr{padding-left:15px}\\t.text-left{text-align:left;}\\t.cb-rank-tabs{padding-left: 10px;}\\t.cb-plyr-tbody{padding:5px 0;}\\t.cb-padding-left0{padding-left: 0;}\\t.cb-rank-hdr{margin-top: 15px; padding: 5px 0;}\\t.cb-bg-grey{background: #f5f5f5;}\\t/*Players*/\\t.cb-player-name-wrap{padding-top: 90px;}\\t.cb-plyr-tbl{margin-top: 30px}\\t.cb-font-40{font-size:40px;}\\t/*Teams*/\\t.cb-cursor-pointer{cursor: pointer;}\\t.cb-team-stats-btn{margin-top: 21px;}\\t.cb-upper-text{text-transform: capitalize;}</style><script>function getCookie(c_name){\\tvar i,x,y,ARRcookies=document.cookie.split(\";\");\\tfor (i=0;i<ARRcookies.length;i++){\\tx=ARRcookies[i].substr(0,ARRcookies[i].indexOf(\"=\"));\\ty=ARRcookies[i].substr(ARRcookies[i].indexOf(\"=\")+1);\\tx=x.replace(/^\\\\s+|\\\\s+$/g,\"\");\\tif (x==c_name){\\treturn unescape(y);\\t}\\t}\\t}\\tvar cbads_value = getCookie(\"cbzads\");\\tif(cbads_value != null && cbads_value.indexOf(\\'IN|AS\\') >= 0){\\tdocument.write(\"<style>.cb-geo-in-50{height:50px}</style>\")\\t}\\t/*polifill for remove function*/\\tif (!(\\'remove\\' in Element.prototype)) {\\tElement.prototype[\\'remove\\'] = function () {\\tif (this.parentNode) {\\tthis.parentNode.removeChild(this);\\t}\\t};\\t}</script><meta http-equiv=\"X-UA-Compatible\" content=\"IE=edge\" /><meta name=\"author\" content=\"\"><link rel=\"shortcut icon\" type=\"image/x-icon\" href=\"/images/cric_ball.ico\" /><meta name=\"google-signin-client_id\" content=\"125255339112-d594jen12o0j854sufu8jfn2gbbnaskj.apps.googleusercontent.com\"><LINK REL=\"apple-touch-icon\" href=\"/images/apple-touch-icon.png\" /> <title itemprop=\"name\">World Cup 2019, Cricket Score, Schedule, Latest News, Stats & Videos | Cricbuzz.com</title><meta name=\"description\" itemprop=\"description\" content=\"Get Live Cricket Score, Scorecard, Schedules of International, Domestic and World Cup matches along with Latest News, Videos and ICC Cricket Rankings of Players on Cricbuzz.\"><link rel=\"alternate\" href=\"android-app://com.cricbuzz.android/http/www.cricbuzz.com/\"><link rel=\"alternate\" href=\"//m.cricbuzz.com/\" media=\"only screen and (max-width: 640px)\"><meta name=\"robots\" content=\"index, follow\"><meta name=\"googlebot\" content=\"index, follow\"><meta name=\"google-site-verification\" content=\"google89fd37b1258ef4b9.html\"><meta name=\"p:domain_verify\" content=\"fd560568b43f31382de30f628c8430bd\"><meta name=\"msvalidate.01\" content=\"A509FA8BAE50018F9DF2553AEDEDF77B\"> <meta property=\"og:title\" content=\"World Cup 2019, Cricket Score, Schedule, Latest News, Stats &amp; Videos\"><meta property=\"og:description\" content=\"Get Live Cricket Score, Scorecard, Schedules of International, Domestic and World Cup matches along with Latest News, Videos and ICC Cricket Rankings of Players on Cricbuzz.\"><meta property=\"og:image\" content=\"http://www.cricbuzz.com\"><meta property=\"og:image:secure_url\" content=\"https://www.cricbuzz.com\"><meta property=\"fb:app_id\" content=\"30119633160\"><meta property=\"og:site_name\" content=\"Cricbuzz\"> <meta property=\"twitter:title\" content=\"World Cup 2019, Cricket Score, Schedule, Latest News, Stats &amp; Videos\"><meta property=\"twitter:description\" content=\"Get Live Cricket Score, Scorecard, Schedules of International, Domestic and World Cup matches along with Latest News, Videos and ICC Cricket Rankings of Players on Cricbuzz.\"><meta property=\"twitter:image\" content=\"https://www.cricbuzz.com\"><meta name=\"twitter:site\" content=\"@cricbuzz\"><meta name=\"twitter:domain\" content=\"cricbuzz.com\"><meta name=\"twitter:app:name:iphone\" content=\"Cricbuzz\"><meta name=\"twitter:app:id:iphone\" content=\"360466413\"><meta name=\"twitter:app:name:googleplay\" content=\"Cricbuzz\"><meta name=\"twitter:app:id:googleplay\" content=\"com.cricbuzz.android\"><meta name=\"twitter:widgets:csp\" content=\"on\"><meta property=\"fb:pages\" content=\"178697151159\" /><meta name=\"keywords\" content=\"\"><meta name=\"news_keywords\" content=\"\"><link rel=\"canonical\" href=\"https://www.cricbuzz.com\"><meta name=\"msapplication-config\" content=\"none\"/><script>var PAGE_NAME = \"cb-homepage\";\\tvar PAGE_TARGETS = {};\\tvar CBQueue = CBQueue || [];\\tvar CBQueueOnLoad = CBQueueOnLoad || [];\\t/*CBQueue.push(function(){roadblock(2,{country:[\"US\",\"CA\", \"ZA\", \"AU\"], continent:[\"EU\"]});});*/\\tCBQueue.push(function(){roadblock(2,{country:[\"US\"]});});\\t_udn = \"cricbuzz.com\";</script><script>(function(w){\\t\"use strict\";\\tvar loadCSS = function( href, before, media ){\\tvar doc = w.document;\\tvar ss = doc.createElement( \"link\" );\\tvar ref;\\tif( before ){\\tref = before;\\t}\\telse {\\tvar refs = ( doc.body || doc.getElementsByTagName( \"head\" )[ 0 ] ).childNodes;\\tref = refs[ refs.length - 1];\\t}\\tvar sheets = doc.styleSheets;\\tss.rel = \"stylesheet\";\\tss.href = href;\\tss.media = \"only x\";\\tref.parentNode.insertBefore( ss, ( before ? ref : ref.nextSibling ) );\\tvar onloadcssdefined = function( cb ){\\tvar resolvedHref = ss.href;\\tvar i = sheets.length;\\twhile( i-- ){\\tif( sheets[ i ].href === resolvedHref ){\\treturn cb();\\t}\\t}\\tsetTimeout(function() {\\tonloadcssdefined( cb );\\t});\\t};\\tss.onloadcssdefined = onloadcssdefined;\\tonloadcssdefined(function() {\\tss.media = media || \"all\";\\t});\\treturn ss;\\t};\\tif( typeof module !== \"undefined\" ){\\tmodule.exports = loadCSS;\\t}\\telse {\\tw.loadCSS = loadCSS;\\t}\\t}( typeof global !== \"undefined\" ? global : this ));\\tloadCSS( \"/dist/css/cricbuzz.min.6501.css\" );</script><noscript><link rel=\"stylesheet\" type=\"text/css\" href=\"/dist/css/cricbuzz.min.6501.css\"></noscript></head><body><a href=\"https://plus.google.com/104502282508811467249\" rel=\"publisher\"></a><a id=\"ad-skin\" target=\"_blank\" href=\"Javascript:void(0)\" class=\"cb-skin-ads-link cb-skin-ads-link-fixed ad-skin\"></a><a href=\"Javascript:void(0)\" class=\"cb-skin-ads-close cb-font-18 ad-skin-close\" style=\"position:fixed; z-index:1001; color:#FFF; background:#000; padding:2px 5px; right:2px;\">&#x2716;</a><header id=\"top\" style=\"z-index: 1000;position: relative;padding-top:10px;width:980px;margin:0 auto;\" itemscope itemtype=\"http://schema.org/WPHeader\"><div class=\"container\"><div id=\"leaderboard\" class=\"ad-unit text-center center-block\" style=\"min-height:90px;margin-bottom:10px;\"></div><div id=\"countdown\" class=\"ad-unit\" style=\"margin:-10px 15px 0px;float:right;position:absolute;\"></div><div class=\"toi-branding toi-referral\"></div><nav class=\"cb-nav cb-col cb-col-100\" id=\"cb-main-menu\"><a href=\"/\" target=\"_self\" class=\"cb-hm-text\"><img itemprop=\"image\" height=\"30\" width=\"101\" style=\"bottom: -4px; position: relative;\" alt=\"Cricbuzz Logo\" title=\"Cricbuzz Logo\" src=\"/images/cbz-logo.png\"></a><a class=\"cb-hm-mnu-itm\" target=\"_self\" href=\"/cricket-match/live-scores\" title=\"Live Cricket Score\">Live Scores</a><a class=\"cb-hm-mnu-itm\" target=\"_self\" href=\"/cricket-schedule/upcoming-series/international\" title=\"Cricket Schedule\">Schedule</a><a class=\"cb-hm-mnu-itm\" target=\"_self\" href=\"/cricket-scorecard-archives\" title=\"Cricket Scorecard Archives\">Archives</a><div class=\"cb-subnav cb-hm-mnu-itm feature-button cursor-pointer\" id=\"newsDropDown\"><a class=\"text-white\" target=\"_self\" href=\"/cricket-news\" >News</a><span class =\"cb-caret-down\"></span><nav class=\"cb-sub-navigation\"><a class=\"cb-subnav-item\" target=\"_self\" href=\"/cricket-news\" title=\"Latest Cricket News\">All Stories</a><a class=\"cb-subnav-item\" target=\"_self\" href=\"/cricket-news/latest-news\" title=\"Latest Cricket News\">Latest News</a><a class=\"cb-subnav-item\" target=\"_self\" href=\"/cricket-news/info/\" title=\"Latest Cricket Topics\">Topics</a><a class=\"cb-subnav-item\" target=\"_self\" href=\"/cricket-news/editorial/spotlight\" title=\"Cricket Editorials and Specials\">Spotlight</a><a class=\"cb-subnav-item\" target=\"_self\" href=\"/cricket-news/editorial/editorial-list\" title=\"Latest Cricket Opinions & Editorials\">Opinions</a><a class=\"cb-subnav-item\" target=\"_self\" href=\"/cricket-news/editorial/specials\" title=\"Latest Cricket Specials\">Specials</a><a class=\"cb-subnav-item\" target=\"_self\" href=\"/cricket-news/editorial/stats-analysis\" title=\"Latest Cricket Stats & Analysis\">Stats & Analysis</a><a class=\"cb-subnav-item\" target=\"_self\" href=\"/cricket-news/editorial/interviews\" title=\"Latest Cricket Player Interviews\">Interviews</a><a class=\"cb-subnav-item\" target=\"_self\" href=\"/cricket-news/editorial/live-blogs\" title=\"Latest Cricket Match live blogs\">Live Blogs</a><a class=\"cb-subnav-item\" target=\"_self\" href=\"/cricket-news/experts/harsha-bhogle/170\" title=\"Articles and Videos by Harsha Bhogle\">Harsha Bhogle</a></nav></div><div class=\"cb-subnav cb-hm-mnu-itm feature-button cursor-pointer\" id=\"seriesDropDown\"><a class=\"text-white\" target=\"_self\" href=\"/cricket-schedule/series\" >Series</a><span class =\"cb-caret-down\"></span><nav class=\"cb-sub-navigation\"><a class=\"cb-subnav-item\" target=\"_self\" href=\"/cricket-series/2697/icc-cricket-world-cup-2019\" title=\"ICC Cricket World Cup 2019\">ICC Cricket World Cup 2019</a><a class=\"cb-subnav-item\" target=\"_self\" href=\"/cricket-series/2818/zimbabwe-tour-of-netherlands-2019\" title=\"Zimbabwe tour of Netherlands, 2019\">Zimbabwe tour of Netherlands, 2019</a><a class=\"cb-subnav-item\" target=\"_self\" href=\"/cricket-series/2844/malaysia-tri-series-2019\" title=\"Malaysia Tri-Series 2019\">Malaysia Tri-Series 2019</a><a class=\"cb-subnav-item\" target=\"_self\" href=\"/cricket-series/2793/zimbabwe-tour-of-ireland-2019\" title=\"Zimbabwe tour of Ireland, 2019\">Zimbabwe tour of Ireland, 2019</a><a class=\"cb-subnav-item\" target=\"_self\" href=\"/cricket-series/2777/west-indies-women-tour-of-england-2019\" title=\"West Indies Women tour of England, 2019\">West Indies Women tour of England, 2019</a><a class=\"cb-subnav-item\" target=\"_self\" href=\"/cricket-series/2780/county-championship-division-one-2019\" title=\"County Championship Division One 2019\">County Championship Division One 2019</a></nav></div><div class=\"cb-subnav cb-hm-mnu-itm feature-button cursor-pointer\" id=\"teamDropDown\"><a class=\"text-white\" target=\"_self\" href=\"/cricket-team\" >Teams</a><span class =\"cb-caret-down\"></span><nav class=\"cb-sub-navigation cb-sub-lg\"> <div class=\"cb-sub-lg-outer\"> <div class=\"cb-sub-lg-sec\"> <h4 class=\"cb-sub-lg-sec-head\">Test Teams</h4> <a class=\"cb-subnav-item cb-sub-lg-sec-item\" target=\"_self\" href=\"/cricket-team/india/2\" title=\"India Cricket Team\">India</a> <a class=\"cb-subnav-item cb-sub-lg-sec-item\" target=\"_self\" href=\"/cricket-team/pakistan/3\" title=\"Pakistan Cricket Team\">Pakistan</a> <a class=\"cb-subnav-item cb-sub-lg-sec-item\" target=\"_self\" href=\"/cricket-team/australia/4\" title=\"Australia Cricket Team\">Australia</a> <a class=\"cb-subnav-item cb-sub-lg-sec-item\" target=\"_self\" href=\"/cricket-team/sri-lanka/5\" title=\"Sri Lanka Cricket Team\">Sri Lanka</a> <a class=\"cb-subnav-item cb-sub-lg-sec-item\" target=\"_self\" href=\"/cricket-team/bangladesh/6\" title=\"Bangladesh Cricket Team\">Bangladesh</a> <a class=\"cb-subnav-item cb-sub-lg-sec-item\" target=\"_self\" href=\"/cricket-team/england/9\" title=\"England Cricket Team\">England</a> <a class=\"cb-subnav-item cb-sub-lg-sec-item\" target=\"_self\" href=\"/cricket-team/west-indies/10\" title=\"West Indies Cricket Team\">West Indies</a> <a class=\"cb-subnav-item cb-sub-lg-sec-item\" target=\"_self\" href=\"/cricket-team/south-africa/11\" title=\"South Africa Cricket Team\">South Africa</a> <a class=\"cb-subnav-item cb-sub-lg-sec-item\" target=\"_self\" href=\"/cricket-team/zimbabwe/12\" title=\"Zimbabwe Cricket Team\">Zimbabwe</a> <a class=\"cb-subnav-item cb-sub-lg-sec-item\" target=\"_self\" href=\"/cricket-team/new-zealand/13\" title=\"New Zealand Cricket Team\">New Zealand</a> <a class=\"cb-subnav-item cb-sub-lg-sec-item\" target=\"_self\" href=\"/cricket-team/ireland/27\" title=\"Ireland Cricket Team\">Ireland</a> <a class=\"cb-subnav-item cb-sub-lg-sec-item\" target=\"_self\" href=\"/cricket-team/afghanistan/96\" title=\"Afghanistan Cricket Team\">Afghanistan</a> </div> <div class=\"cb-sub-lg-sec\"> <h4 class=\"cb-sub-lg-sec-head\">Associate</h4> <a class=\"cb-subnav-item cb-sub-lg-sec-item\" target=\"_self\" href=\"/cricket-team/united-arab-emirates/7\" title=\"United Arab Emirates Cricket Team\">United Arab Emirates</a> <a class=\"cb-subnav-item cb-sub-lg-sec-item\" target=\"_self\" href=\"/cricket-team/hong-kong/8\" title=\"Hong Kong Cricket Team\">Hong Kong</a> <a class=\"cb-subnav-item cb-sub-lg-sec-item\" target=\"_self\" href=\"/cricket-team/kenya/14\" title=\"Kenya Cricket Team\">Kenya</a> <a class=\"cb-subnav-item cb-sub-lg-sec-item\" target=\"_self\" href=\"/cricket-team/united-states/15\" title=\"United States Cricket Team\">United States</a> <a class=\"cb-subnav-item cb-sub-lg-sec-item\" target=\"_self\" href=\"/cricket-team/scotland/23\" title=\"Scotland Cricket Team\">Scotland</a> <a class=\"cb-subnav-item cb-sub-lg-sec-item\" target=\"_self\" href=\"/cricket-team/netherlands/24\" title=\"Netherlands Cricket Team\">Netherlands</a> <a class=\"cb-subnav-item cb-sub-lg-sec-item\" target=\"_self\" href=\"/cricket-team/bermuda/25\" title=\"Bermuda Cricket Team\">Bermuda</a> <a class=\"cb-subnav-item cb-sub-lg-sec-item\" target=\"_self\" href=\"/cricket-team/canada/26\" title=\"Canada Cricket Team\">Canada</a> <a class=\"cb-subnav-item cb-sub-lg-sec-item\" target=\"_self\" href=\"/cricket-team/uganda/44\" title=\"Uganda Cricket Team\">Uganda</a> <a class=\"cb-subnav-item cb-sub-lg-sec-item\" target=\"_self\" href=\"/cricket-team/malaysia/71\" title=\"Malaysia Cricket Team\">Malaysia</a> <a class=\"cb-subnav-item cb-sub-lg-sec-item\" target=\"_self\" href=\"/cricket-team/nepal/72\" title=\"Nepal Cricket Team\">Nepal</a> <a class=\"cb-subnav-item cb-sub-lg-sec-item\" target=\"_self\" href=\"/cricket-team/germany/77\" title=\"Germany Cricket Team\">Germany</a> </div> </div> <a target=\"_self\" href=\"/cricket-team\" class=\"cb-sub-lg-more\">More...</a></nav></div> <div class=\"cb-subnav cb-hm-mnu-itm feature-button cursor-pointer\" id=\"videosDropDown\"><a class=\"text-white\" target=\"_self\" href=\"/cricket-videos\">Videos</a><span class =\"cb-caret-down\"></span> <nav class=\"cb-sub-navigation\"> <a target=\"_self\" class=\"cb-subnav-item\" href=\"/cricket-videos\" title=\"All Cricket Videos\">All Videos</a> <a target=\"_self\" class=\"cb-subnav-item\" href=\"/cricket-videos/categories\" title=\"Cricket Videos Categories\">Categories</a> <a target=\"_self\" class=\"cb-subnav-item\" href=\"/cricket-videos/playlists\" title=\"Cricket Videos Playlists\">Playlists</a> </nav> </div> <div class=\"cb-subnav cb-hm-mnu-itm feature-button cursor-pointer\" id=\"rankingDropDown\"><a class=\"text-white\" href=\"/cricket-stats/icc-rankings/men/batting\">Rankings</a><span class =\"cb-caret-down\"></span><nav class=\"cb-sub-navigation\"><a class=\"cb-subnav-item\" target=\"_self\" href=\"/cricket-stats/icc-rankings/men/batting\" title=\"ICC Rankings Men\">ICC Rankings - Men</a><a class=\"cb-subnav-item\" target=\"_self\" href=\"/cricket-stats/icc-rankings/women/batting\" title=\"ICC Rankings Women\">ICC Rankings - Women</a></nav></div> <div class=\"cb-subnav cb-hm-mnu-itm feature-button cursor-pointer\">More<span class =\"cb-caret-down\"></span><nav class=\"cb-sub-navigation\" style=\"right:0px;\"> <a class=\"cb-subnav-item\" target=\"_self\" href=\"/cricket-photo-gallery\" title=\"Photo Gallery\">Photos</a> <a class=\"cb-subnav-item\" target=\"_self\" href=\"/mobileapps\" title=\"Mobile Apps\">Mobile Apps</a><a class=\"cb-subnav-item\" target=\"_self\" href=\"/careers\" title=\"Careers\">Careers</a><a class=\"cb-subnav-item\" target=\"_self\" href=\"/info/contact\" title=\"Contact Us\">Contact Us</a></nav></div> <div ng-controller=\"SearchCtrl\" ng-init=\" init(-1, 61, 76, 350, \\'\\', \\'nav\\')\"> <div class=\"cb-nav-search-wrap\" ng-style=\"{width: inputFocus?\\'830px\\':\\'170px\\'}\"> <div class=\"cb-col-100 cb-col cb-srch-bar cb-srch-bar-nav\"> <form ng-submit=\"search_results(false, false)\" name=\"form\" class=\"cb-search-form\" ng-cloak> <div class=\"cb-search-input-nav\"> <div class=\"cb-search-outer\"> <div class=\"cb-search-input-wrap\"> <input type=\"text\" class=\"js-cb-search-input cb-search-input-elem cb-search-input-elem-nav form-control cb-car-inp cb-srch-bg\" ng-change=\"suggest_search()\" maxlength=\"500\" ng-model=\"searchText\" id=\"search_bar\" name=\"search\" value=\"suggest.title\" autocomplete=\"off\" ng-class=\"{\\'cb-search-input-elem-error-nav\\':errorText, \\'cb-srch-high-zIndex\\':dropdownVisible, \\'cb-srch-input-focus\\':inputFocus}\" placeholder=\"{{errorText?errorText:(source == \\'nav\\' && inputFocus) || source == \\'search-page\\'?\\'Search for Player, Series, Team, News or Video. eg: Windies tour of India\\': \\'Search\\'}}\" ng-keydown=\"onKeyPress($event)\" ng-focus=\"onInputFocus()\" ng-blur=\"loseInputFocus()\" ng-model-options=\"{ debounce: 400 }\"/> <span class=\"cb-ico cb-search-input-icon cb-search-input-icon-nav\"></span> <span class=\"cb-srch-cross-new cb-srch-cross-new-nav cb-font-14\" ng-class=\"{\\'cb-srch-cross-focus\\': inputFocus, \\'cb-srch-high-zIndex\\':dropdownVisible}\" ng-click=\"reset_form(\\'view\\');\" ng-show=\"searchText.length > 0\">â\\x9c\\x96</span> </div> <div ng-show=\"dropdownVisible\" class=\"cb-srch-backdrop\" ng-click=\"hideDropdown()\"></div> <div ng-show=\"dropdownVisible && searchText.length >= 2 && search_ftr_suggst.length > 0\" class=\"cb-main-srch-box-wrap\"> <ul class=\"cb-main-srch-box\" id=\"searchBox_nav\"> <li class=\"cb-main-srch-box-item {{selected_suggestions == $index?\\'highlight\\':\\'\\'}}\" id=\"search_item_{{$index}}\" ng-click=\"search_results()\" ng-repeat=\"suggest in search_ftr_suggst track by $index\" ng-show=\"suggestions && searchText.length > 0 && inputFocus\" ng-mouseover=\"highlight_item_mouse_hover($index)\" ng-class=\"{\\'cb-main-srch-box-item-border\\':suggest.hasBorder, \\'cb-big\\': suggest.isSearchItem}\" > <a ng-if=\"!suggest.isSearchItem\" class=\"text-black cb-srch-suggest-link\"> <div class=\"cb-srch-suggest-img\" ng-class=\"{\\'cb-srch-suggest-img-teams\\': suggest.type == \\'Teams\\'}\"> <div ng-if=\"suggest.imgUrl\" class=\"\"> <img class=\"cb-srch-suggest-icon-img\" ng-src=\"{{suggest.imgUrl}}\" /> </div> <div ng-if=\"!suggest.imgUrl\" class=\"cb-srch-sugggest-icon {{suggest.iconClass}} cb-ico\"> </div> </div> <div class=\"cb-srch-suggest-content\"> <p class=\"cb-srch-suggest-content-title\" ng-bind-html=\"suggest | searchfilter:oldText\"></p> <p class=\"cb-srch-suggest-content-subtitle cb-font-12 cb-text-gray\">{{suggest.tag}}</p> </div> </a> <a ng-if=\"suggest.isSearchItem\" href=\"javascript:void(0)\" class=\"text-black cb-srch-suggest-link\"> <div class=\"cb-srch-suggest-img\"> <div class=\"cb-srch-sugggest-icon cb-srch-sugggest-icon-search cb-ico\"> </div> </div> <div class=\"cb-srch-suggest-content cb-center-text\"> <p class=\"cb-srch-suggest-content-title\">Search for &#8220;<span ng-bind=\"searchText\"></span>&#8221;</p> </div> </a> </li> </ul> </div> </div> </div> <div class=\"cb-search-submit-nav\" ng-class=\"{\\'cb-search-submit-input-focus\\': inputFocus, \\'cb-search-submit-error\\': errorText}\"> <a class=\"text-white cb-srch-bttn\" ng-class=\"{\\'cb-srch-high-zIndex\\':dropdownVisible}\" ng-click=\"search_results(false, true)\">SEARCH</a> </div> </form></div><style>.cb-srch-ico{margin: 0}</style> </div> </div> </nav></div></header><div class=\"page\"><div id=\"fb-root\"></div><div id=\"page-wrapper\" class=\"container\" style=\"display:inline-block;\"><div id=\"shosh\" class=\"ad-unit shosh-embed\" style=\"height:0; width:980px; text-align:center;\"></div><span id=\"skin_left\" class=\"ad-unit\" style=\"overflow:hidden; position:fixed;top:0;left:calc(50% - 635px);margin-right:3px;z-index:-99;\" ></span> <div class=\"cb-col cb-col-100\"><div id=\"match_menu_container\" class=\"cb-col cb-col-100 html-refresh\" url=\"/api/html/homepage-scag\" timeout=\"45000\"><div class=\"cb-nav-main cb-bg-white\" ng-init=\"run_active = \\'Featured\\'\"><nav class=\"cb-nav-bar\" id=\"scagTab\"><a href=\"javascript:void(0)\" ng-class=\"{true:\\'active\\',false:\\'\\'}[run_active == \\'Featured\\']\" class=\"cb-nav-tab-hm active\" id=\"featured-mtchs-tab\" ng-click=\"run_active = \\'Featured\\'\">Featured</a><a href=\"javascript:void(0)\" ng-class=\"{true:\\'active\\',false:\\'\\'}[run_active == \\'International\\']\" class=\"cb-nav-tab-hm \" id=\"international-mtchs-tab\" ng-click=\"run_active = \\'International\\'\">International</a><a href=\"javascript:void(0)\" ng-class=\"{true:\\'active\\',false:\\'\\'}[run_active == \\'ICC Cricket WC 2019\\']\" class=\"cb-nav-tab-hm \" id=\"icc-cricket-wc-2019-mtchs-tab\" ng-click=\"run_active = \\'ICC Cricket WC 2019\\'\">ICC Cricket WC 2019</a><a href=\"javascript:void(0)\" ng-class=\"{true:\\'active\\',false:\\'\\'}[run_active == \\'PAK U19 tour of SA\\']\" class=\"cb-nav-tab-hm \" id=\"pak-u19-tour-of-sa-mtchs-tab\" ng-click=\"run_active = \\'PAK U19 tour of SA\\'\">PAK U19 tour of SA</a><a href=\"javascript:void(0)\" ng-class=\"{true:\\'active\\',false:\\'\\'}[run_active == \\'County Division One\\']\" class=\"cb-nav-tab-hm \" id=\"county-division-one-mtchs-tab\" ng-click=\"run_active = \\'County Division One\\'\">County Division One</a><a class=\"cb-nav-tab-hm cb-text-link cb-all-mtch-tab\" href=\"/cricket-match/live-scores\" title=\"Live Scores of Cricket Matches\" id=\"AllMatches\">All Matches</a></nav></div><div class=\"cb-bg-white\" style=\"min-height:90px;\" id=\"hm-scag-mtch-blk\"><div ng-if=\"run_active == \\'Featured\\'\" ><div class=\"cb-col-100 cb-col cb-hm-scg-blk \"><div class=\"cb-col cb-col-25 cb-mtch-blk\"><a title=\"Bangladesh v India - Match 40\" href=\"/live-cricket-scores/20276/ban-vs-ind-match-40-icc-cricket-world-cup-2019\" target=\"_self\" class=\"cb-font-12\"><div class=\"cb-hmscg-bat-txt cb-ovr-flo \">Bangladesh</div> <div class=\"cb-hmscg-bat-txt cb-ovr-flo \">India</div><div class=\" cb-ovr-flo cb-text-preview\" ng-bind=\"1562059800000 |date: \\'EEEE, d MMM, hh:mm a\\'\"></div></a></div><div class=\"cb-col cb-col-25 cb-mtch-blk\"><a title=\"Sri Lanka v West Indies - Match 39\" href=\"/live-cricket-scores/20275/sl-vs-wi-match-39-icc-cricket-world-cup-2019\" target=\"_self\" class=\"cb-font-12\"><div class=\"cb-hmscg-bat-txt cb-ovr-flo \"><div class=\\'cb-ovr-flo cb-hmscg-tm-nm\\'>WI</div><div class=\\'cb-ovr-flo\\' style=\\'display:inline-block; width:140px\\'>315/9 (50.0 Ovs)</div></div><div class=\"cb-hmscg-bwl-txt \"><div class=\\'cb-ovr-flo cb-hmscg-tm-nm\\'>SL</div><div class=\\'cb-ovr-flo\\' style=\\'display:inline-block; width:140px\\'>338/6 (50.0 Ovs)</div></div><div class=\" cb-ovr-flo cb-text-complete\">Sri Lanka won by 23 runs</div></a></div><div class=\"cb-col cb-col-25 cb-mtch-blk\"><a title=\"Ireland v Zimbabwe - 1st ODI\" href=\"/live-cricket-scores/22232/ire-vs-zim-1st-odi-zimbabwe-tour-of-ireland-2019\" target=\"_self\" class=\"cb-font-12\"><div class=\"cb-hmscg-bat-txt cb-ovr-flo \"><div class=\\'cb-ovr-flo cb-hmscg-tm-nm\\'>IRE</div><div class=\\'cb-ovr-flo\\' style=\\'display:inline-block; width:140px\\'>258/6 (48.3 Ovs)</div></div><div class=\"cb-hmscg-bwl-txt \"><div class=\\'cb-ovr-flo cb-hmscg-tm-nm\\'>ZIM</div><div class=\\'cb-ovr-flo\\' style=\\'display:inline-block; width:140px\\'>254/9 (50.0 Ovs)</div></div><div class=\" cb-ovr-flo cb-text-complete\">Ireland won by 4 wkts</div></a></div><div class=\"cb-col cb-col-25 cb-mtch-blk\"><a title=\"England Women v Australia Women - 1st ODI\" href=\"/live-cricket-scores/21639/engw-vs-ausw-1st-odi-womens-ashes-2019\" target=\"_self\" class=\"cb-font-12\"><div class=\"cb-hmscg-bat-txt cb-ovr-flo \">England Women</div> <div class=\"cb-hmscg-bat-txt cb-ovr-flo \">Australia Women</div><div class=\" cb-ovr-flo cb-text-preview\" ng-bind=\"1562072400000 |date: \\'EEEE, d MMM, hh:mm a\\'\"></div></a></div></div></div><div ng-if=\"run_active == \\'International\\'\" ><div class=\"cb-col-100 cb-col cb-hm-scg-blk ng-cloak\"><div class=\"cb-col cb-col-25 cb-mtch-blk\"><a title=\"Bangladesh v India - Match 40\" href=\"/live-cricket-scores/20276/ban-vs-ind-match-40-icc-cricket-world-cup-2019\" target=\"_self\" class=\"cb-font-12\"><div class=\"cb-hmscg-bat-txt cb-ovr-flo \">Bangladesh</div> <div class=\"cb-hmscg-bat-txt cb-ovr-flo \">India</div><div class=\" cb-ovr-flo cb-text-preview\" ng-bind=\"1562059800000 |date: \\'EEEE, d MMM, hh:mm a\\'\"></div></a></div><div class=\"cb-col cb-col-25 cb-mtch-blk\"><a title=\"Sri Lanka v West Indies - Match 39\" href=\"/live-cricket-scores/20275/sl-vs-wi-match-39-icc-cricket-world-cup-2019\" target=\"_self\" class=\"cb-font-12\"><div class=\"cb-hmscg-bat-txt cb-ovr-flo \"><div class=\\'cb-ovr-flo cb-hmscg-tm-nm\\'>WI</div><div class=\\'cb-ovr-flo\\' style=\\'display:inline-block; width:140px\\'>315/9 (50.0 Ovs)</div></div><div class=\"cb-hmscg-bwl-txt \"><div class=\\'cb-ovr-flo cb-hmscg-tm-nm\\'>SL</div><div class=\\'cb-ovr-flo\\' style=\\'display:inline-block; width:140px\\'>338/6 (50.0 Ovs)</div></div><div class=\" cb-ovr-flo cb-text-complete\">Sri Lanka won by 23 runs</div></a></div><div class=\"cb-col cb-col-25 cb-mtch-blk\"><a title=\"Ireland v Zimbabwe - 1st ODI\" href=\"/live-cricket-scores/22232/ire-vs-zim-1st-odi-zimbabwe-tour-of-ireland-2019\" target=\"_self\" class=\"cb-font-12\"><div class=\"cb-hmscg-bat-txt cb-ovr-flo \"><div class=\\'cb-ovr-flo cb-hmscg-tm-nm\\'>IRE</div><div class=\\'cb-ovr-flo\\' style=\\'display:inline-block; width:140px\\'>258/6 (48.3 Ovs)</div></div><div class=\"cb-hmscg-bwl-txt \"><div class=\\'cb-ovr-flo cb-hmscg-tm-nm\\'>ZIM</div><div class=\\'cb-ovr-flo\\' style=\\'display:inline-block; width:140px\\'>254/9 (50.0 Ovs)</div></div><div class=\" cb-ovr-flo cb-text-complete\">Ireland won by 4 wkts</div></a></div><div class=\"cb-col cb-col-25 cb-mtch-blk\"><a title=\"England Women v Australia Women - 1st ODI\" href=\"/live-cricket-scores/21639/engw-vs-ausw-1st-odi-womens-ashes-2019\" target=\"_self\" class=\"cb-font-12\"><div class=\"cb-hmscg-bat-txt cb-ovr-flo \">England Women</div> <div class=\"cb-hmscg-bat-txt cb-ovr-flo \">Australia Women</div><div class=\" cb-ovr-flo cb-text-preview\" ng-bind=\"1562072400000 |date: \\'EEEE, d MMM, hh:mm a\\'\"></div></a></div></div></div><div ng-if=\"run_active == \\'ICC Cricket WC 2019\\'\" ><div class=\"cb-col-100 cb-col cb-hm-scg-blk ng-cloak\"><div class=\"cb-col cb-col-25 cb-mtch-blk\"><a title=\"Bangladesh v India - Match 40\" href=\"/live-cricket-scores/20276/ban-vs-ind-match-40-icc-cricket-world-cup-2019\" target=\"_self\" class=\"cb-font-12\"><div class=\"cb-hmscg-bat-txt cb-ovr-flo \">Bangladesh</div> <div class=\"cb-hmscg-bat-txt cb-ovr-flo \">India</div><div class=\" cb-ovr-flo cb-text-preview\" ng-bind=\"1562059800000 |date: \\'EEEE, d MMM, hh:mm a\\'\"></div></a></div><div class=\"cb-col cb-col-25 cb-mtch-blk\"><a title=\"Sri Lanka v West Indies - Match 39\" href=\"/live-cricket-scores/20275/sl-vs-wi-match-39-icc-cricket-world-cup-2019\" target=\"_self\" class=\"cb-font-12\"><div class=\"cb-hmscg-bat-txt cb-ovr-flo \"><div class=\\'cb-ovr-flo cb-hmscg-tm-nm\\'>WI</div><div class=\\'cb-ovr-flo\\' style=\\'display:inline-block; width:140px\\'>315/9 (50.0 Ovs)</div></div><div class=\"cb-hmscg-bwl-txt \"><div class=\\'cb-ovr-flo cb-hmscg-tm-nm\\'>SL</div><div class=\\'cb-ovr-flo\\' style=\\'display:inline-block; width:140px\\'>338/6 (50.0 Ovs)</div></div><div class=\" cb-ovr-flo cb-text-complete\">Sri Lanka won by 23 runs</div></a></div></div></div><div ng-if=\"run_active == \\'PAK U19 tour of SA\\'\" ><div class=\"cb-col-100 cb-col cb-hm-scg-blk ng-cloak\"><div class=\"cb-col cb-col-25 cb-mtch-blk\"><a title=\"South Africa U19 v Pakistan U19 - 5th Youth ODI\" href=\"/live-cricket-scores/22865/rsau19-vs-paku19-5th-youth-odi-pakistan-under-19-tour-of-south-africa-2019\" target=\"_self\" class=\"cb-font-12\"><div class=\"cb-hmscg-bat-txt cb-ovr-flo \"><div class=\\'cb-ovr-flo cb-hmscg-tm-nm\\'>PAKU..</div><div class=\\'cb-ovr-flo\\' style=\\'display:inline-block; width:140px\\'>38/0 (5.0 Ovs)</div></div><div class=\"cb-hmscg-bwl-txt \"><div class=\\'cb-ovr-flo cb-hmscg-tm-nm\\'>RSAU..</div><div class=\\'cb-ovr-flo\\' style=\\'display:inline-block; width:140px\\'></div></div><div class=\" cb-ovr-flo cb-text-live\">Pakistan U19 opt to bat</div></a></div></div></div><div ng-if=\"run_active == \\'County Division One\\'\" ><div class=\"cb-col-100 cb-col cb-hm-scg-blk ng-cloak\"><div class=\"cb-col cb-col-25 cb-mtch-blk\"><a title=\"Yorkshire v Surrey - County Div 1\" href=\"/live-cricket-scores/21723/yorks-vs-sur-county-div-1-county-championship-division-one-2019\" target=\"_self\" class=\"cb-font-12\"><div class=\"cb-hmscg-bat-txt cb-ovr-flo \"><div class=\\'cb-ovr-flo cb-hmscg-tm-nm\\'>SUR</div><div class=\\'cb-ovr-flo\\' style=\\'display:inline-block; width:140px\\'>362-all out (107.4 Ovs)</div></div><div class=\"cb-hmscg-bwl-txt \"><div class=\\'cb-ovr-flo cb-hmscg-tm-nm\\'>YORK..</div><div class=\\'cb-ovr-flo\\' style=\\'display:inline-block; width:140px\\'>327</div></div><div class=\" cb-ovr-flo cb-text-live\">Day 2: Stumps - Surrey lead by 35 runs</div></a></div><div class=\"cb-col cb-col-25 cb-mtch-blk\"><a title=\"Kent v Warwickshire - County Div 1\" href=\"/live-cricket-scores/21715/kent-vs-warks-county-div-1-county-championship-division-one-2019\" target=\"_self\" class=\"cb-font-12\"><div class=\"cb-hmscg-bat-txt cb-ovr-flo \"><div class=\\'cb-ovr-flo cb-hmscg-tm-nm\\'>WARK..</div><div class=\\'cb-ovr-flo\\' style=\\'display:inline-block; width:140px\\'>142/0 (47.0 Ovs)</div></div><div class=\"cb-hmscg-bwl-txt \"><div class=\\'cb-ovr-flo cb-hmscg-tm-nm\\'>KENT</div><div class=\\'cb-ovr-flo\\' style=\\'display:inline-block; width:140px\\'>585/7 decl</div></div><div class=\" cb-ovr-flo cb-text-live\">Day 2: Stumps - Warwickshire trail by 443 runs</div></a></div><div class=\"cb-col cb-col-25 cb-mtch-blk\"><a title=\"Somerset v Hampshire - County Div 1\" href=\"/live-cricket-scores/21720/som-vs-ham-county-div-1-county-championship-division-one-2019\" target=\"_self\" class=\"cb-font-12\"><div class=\"cb-hmscg-bat-txt cb-ovr-flo \"><div class=\\'cb-ovr-flo cb-hmscg-tm-nm\\'>HAM</div><div class=\\'cb-ovr-flo\\' style=\\'display:inline-block; width:140px\\'>329/8 (102.0 Ovs)</div></div><div class=\"cb-hmscg-bwl-txt \"><div class=\\'cb-ovr-flo cb-hmscg-tm-nm\\'>SOM</div><div class=\\'cb-ovr-flo\\' style=\\'display:inline-block; width:140px\\'>408</div></div><div class=\" cb-ovr-flo cb-text-live\">Day 2: Stumps - Hampshire trail by 79 runs</div></a></div><div class=\"cb-col cb-col-25 cb-mtch-blk\"><a title=\"Nottinghamshire v Essex - County Div 1\" href=\"/live-cricket-scores/21718/notts-vs-ess-county-div-1-county-championship-division-one-2019\" target=\"_self\" class=\"cb-font-12\"><div class=\"cb-hmscg-bat-txt cb-ovr-flo \"><div class=\\'cb-ovr-flo cb-hmscg-tm-nm\\'>ESS</div><div class=\\'cb-ovr-flo\\' style=\\'display:inline-block; width:140px\\'>345/3 (120.0 Ovs)</div></div><div class=\"cb-hmscg-bwl-txt \"><div class=\\'cb-ovr-flo cb-hmscg-tm-nm\\'>NOTT..</div><div class=\\'cb-ovr-flo\\' style=\\'display:inline-block; width:140px\\'>213</div></div><div class=\" cb-ovr-flo cb-text-live\">Day 2: Stumps - Essex lead by 132 runs</div></a></div></div></div><div ng-if=\"run_active == \\'County Division Two\\'\" ><div class=\"cb-col-100 cb-col cb-hm-scg-blk ng-cloak\"><div class=\"cb-col cb-col-25 cb-mtch-blk\"><a title=\"Derbyshire v Middlesex - County Div 2\" href=\"/live-cricket-scores/21726/derby-vs-mdx-county-div-2-county-championship-division-two-2019\" target=\"_self\" class=\"cb-font-12\"><div class=\"cb-hmscg-bat-txt cb-ovr-flo \"><div class=\\'cb-ovr-flo cb-hmscg-tm-nm\\'>MDX</div><div class=\\'cb-ovr-flo\\' style=\\'display:inline-block; width:140px\\'>135/3 (45.0 Ovs)</div></div><div class=\"cb-hmscg-bwl-txt \"><div class=\\'cb-ovr-flo cb-hmscg-tm-nm\\'>DERB..</div><div class=\\'cb-ovr-flo\\' style=\\'display:inline-block; width:140px\\'>557/6 decl</div></div><div class=\" cb-ovr-flo cb-text-live\">Day 2: Stumps - Middlesex trail by 422 runs</div></a></div><div class=\"cb-col cb-col-25 cb-mtch-blk\"><a title=\"Glamorgan v Worcestershire - County Div 2\" href=\"/live-cricket-scores/21725/glam-vs-worcs-county-div-2-county-championship-division-two-2019\" target=\"_self\" class=\"cb-font-12\"><div class=\"cb-hmscg-bat-txt cb-ovr-flo \"><div class=\\'cb-ovr-flo cb-hmscg-tm-nm\\'>WORC..</div><div class=\\'cb-ovr-flo\\' style=\\'display:inline-block; width:140px\\'>191/5 (69.0 Ovs)</div></div><div class=\"cb-hmscg-bwl-txt \"><div class=\\'cb-ovr-flo cb-hmscg-tm-nm\\'>GLAM</div><div class=\\'cb-ovr-flo\\' style=\\'display:inline-block; width:140px\\'>449</div></div><div class=\" cb-ovr-flo cb-text-live\">Day 2: Stumps - Worcestershire trail by 258 runs</div></a></div><div class=\"cb-col cb-col-25 cb-mtch-blk\"><a title=\"Sussex v Northamptonshire - County Div 2\" href=\"/live-cricket-scores/21724/sus-vs-nor-county-div-2-county-championship-division-two-2019\" target=\"_self\" class=\"cb-font-12\"><div class=\"cb-hmscg-bat-txt cb-ovr-flo \"><div class=\\'cb-ovr-flo cb-hmscg-tm-nm\\'>NOR</div><div class=\\'cb-ovr-flo\\' style=\\'display:inline-block; width:140px\\'>273, 212/4 (56.0 Ovs)</div></div><div class=\"cb-hmscg-bwl-txt \"><div class=\\'cb-ovr-flo cb-hmscg-tm-nm\\'>SUS</div><div class=\\'cb-ovr-flo\\' style=\\'display:inline-block; width:140px\\'>106</div></div><div class=\" cb-ovr-flo cb-text-live\">Day 2: Stumps - Northamptonshire lead by 379 runs</div></a></div><div class=\"cb-col cb-col-25 cb-mtch-blk\"><a title=\"Lancashire v Durham - County Div 2\" href=\"/live-cricket-scores/21722/lancs-vs-dur-county-div-2-county-championship-division-two-2019\" target=\"_self\" class=\"cb-font-12\"><div class=\"cb-hmscg-bat-txt cb-ovr-flo \"><div class=\\'cb-ovr-flo cb-hmscg-tm-nm\\'>DUR</div><div class=\\'cb-ovr-flo\\' style=\\'display:inline-block; width:140px\\'>199/5 (72.0 Ovs)</div></div><div class=\"cb-hmscg-bwl-txt \"><div class=\\'cb-ovr-flo cb-hmscg-tm-nm\\'>LANC..</div><div class=\\'cb-ovr-flo\\' style=\\'display:inline-block; width:140px\\'>337</div></div><div class=\" cb-ovr-flo cb-text-live\">Day 2: Stumps - Durham trail by 138 runs</div></a></div></div></div><div ng-if=\"run_active == \\'AUS A tour of ENG, 2019\\'\" ><div class=\"cb-col-100 cb-col cb-hm-scg-blk ng-cloak\"><div class=\"cb-col cb-col-25 cb-mtch-blk\"><a title=\"Gloucestershire v Australia A - 5th unofficial ODI\" href=\"/live-cricket-scores/22385/gloucs-vs-ausa-5th-unofficial-odi-australia-a-tour-of-england-2019\" target=\"_self\" class=\"cb-font-12\"><div class=\"cb-hmscg-bat-txt cb-ovr-flo \">Gloucestershire</div> <div class=\"cb-hmscg-bat-txt cb-ovr-flo \">Australia A</div><div class=\" cb-ovr-flo cb-text-preview\" ng-bind=\"1562061600000 |date: \\'EEEE, d MMM, hh:mm a\\'\"></div></a></div></div></div></div></div><div id=\"menu_branding\" class=\"ad-unit\" style=\"float:right;\"></div></div><nav class=\"cb-col cb-col-100 cb-bg-white cb-qck-lnk\" id=\"cb-qck-navbar\"> <h1 class=\"cb-qck-lnk-hdr inline-block\">World Cup 2019</h1> <a class=\"cb-text-link cb-qck-ancr\" href=\"/cricket-series/2697/icc-cricket-world-cup-2019\" title=\"World Cup 2019\">Home</a><a class=\"cb-text-link cb-qck-ancr\" href=\"/cricket-series/2697/icc-cricket-world-cup-2019/matches\" title=\"World Cup 2019 Schedule\">Schedule</a><a class=\"cb-text-link cb-qck-ancr\" href=\"/cricket-series/2697/icc-cricket-world-cup-2019/points-table\" title=\"World Cup 2019 Points Table\">Points Table</a><a class=\"cb-text-link cb-qck-ancr\" href=\"/cricket-series/2697/icc-cricket-world-cup-2019/news\" title=\"World Cup 2019 News\">News</a><a class=\"cb-text-link cb-qck-ancr\" href=\"/cricket-series/2697/icc-cricket-world-cup-2019/videos\" title=\"World Cup 2019 Videos\">Videos</a><a class=\"cb-text-link cb-qck-ancr\" href=\"/cricket-series/2697/icc-cricket-world-cup-2019/squads\" title=\"World Cup 2019 Squads\">Squads</a><a class=\"cb-text-link cb-qck-ancr\" href=\"/special-content/boundary-tracker/2697/icc-cricket-world-cup-2019\" title=\"World Cup 2019 Boundary Tracker\">Boundary Tracker</a><a class=\"cb-text-link cb-qck-ancr\" href=\"/cricket-news/108171/world-cup-2019-that-happened\" title=\"World Cup Pulse\">Pulse</a></nav><style>.cb-qck-lnk-hdr{ font-size:18px; line-height: 27px;\\n}</style> <meta http-equiv=\"refresh\" content=\"400\"> <div class=\"cb-col cb-col-20\"> <div class=\"cb-bg-white\" id=\"cb-news-blck\"><h2 class=\"cb-hm-lft-hdr cb-lv-scr-mtch-hdr\">LATEST NEWS</h2><div class=\\'cb-hm-lft\\'><div class=\"cb-col-100 cb-lst-itm cb-lst-itm-sm\"><a class=\"cb-nws-hdln-ancr text-hvr-underline\" href=\"/cricket-news/108785/expect-big-things-from-nicholas-pooran-says-west-indies-cricket-team-captain-jason-holder\" title=\"Expect big things from Pooran: Holder\">Expect big things from Pooran: Holder</a><div class=\"cb-nws-time\">6h ago</div></div><div class=\"cb-col-100 cb-lst-itm cb-lst-itm-sm\"><a class=\"cb-nws-hdln-ancr text-hvr-underline\" href=\"/cricket-news/108779/liam-plunkett-the-low-profile-assassin\" title=\"Liam Plunkett - the low profile assassin\">Liam Plunkett - the low profile assassin</a><div class=\"cb-nws-time\">13h ago</div></div><div class=\"cb-col-100 cb-lst-itm cb-lst-itm-sm\"><a class=\"cb-nws-hdln-ancr text-hvr-underline\" href=\"/cricket-news/108778/womens-ashes-2019-england-vs-australia-cricket-team-captain-meg-lanning-harps-on-the-importance-of-new-ball-battle\" title=\"Lanning harps on the importance of new-ball battle\">Lanning harps on the importance of new-ball battle</a><div class=\"cb-nws-time\">14h ago</div></div><div class=\"cb-col-100 cb-lst-itm cb-lst-itm-sm\"><a class=\"cb-nws-hdln-ancr text-hvr-underline\" href=\"/cricket-news/108773/bangar-comes-to-dhonis-defence-amidst-intent-talk\" title=\"Bangar comes to Dhoni\\'s defence amidst intent talk \">Bangar comes to Dhoni\\'s defence amidst intent talk </a><div class=\"cb-nws-time\">20h ago</div></div><div class=\"cb-col-100 cb-lst-itm cb-lst-itm-sm\"><a class=\"cb-nws-hdln-ancr text-hvr-underline\" href=\"/cricket-news/108771/vijay-shankar-ruled-out-of-2019-world-cup-with-toe-injury\" title=\"Vijay Shankar ruled out of 2019 World Cup with toe injury\">Vijay Shankar ruled out of 2019 World Cup with toe injury</a><div class=\"cb-nws-time\">22h ago</div></div><div class=\"cb-col-100 cb-lst-itm cb-lst-itm-sm\"><a class=\"cb-nws-hdln-ancr text-hvr-underline\" href=\"/cricket-news/108769/icc-world-cup-2019-courtney-walsh-backs-out-of-form-mashrafe-mortaza-to-come-good-in-must-wins-bangladesh-cricket-team\" title=\"Walsh backs out-of-form Mortaza to come good in must-wins\">Walsh backs out-of-form Mortaza to come good in must-wins</a><div class=\"cb-nws-time\">1d ago</div></div><div class=\"cb-col-100 cb-lst-itm cb-lst-itm-sm\"><a class=\"cb-nws-hdln-ancr text-hvr-underline\" href=\"/cricket-news/108766/virat-kohli-expresses-surprise-over-edgbaston-playing-conditions-icc-cricket-world-cup-2019\" title=\"Kohli expresses surprise over Edgbaston playing conditions\">Kohli expresses surprise over Edgbaston playing conditions</a><div class=\"cb-nws-time\">1d ago</div></div><div class=\"cb-col-100 cb-lst-itm cb-lst-itm-sm\"><a class=\"cb-nws-hdln-ancr text-hvr-underline\" href=\"/cricket-news/108758/zimbabwe-womens-tour-of-ireland-called-off\" title=\"Zimbabwe women\\'s tour of Ireland called off\">Zimbabwe women\\'s tour of Ireland called off</a><div class=\"cb-nws-time\">1d ago</div></div><div class=\"cb-col-100 cb-lst-itm cb-lst-itm-sm\"><a class=\"cb-nws-hdln-ancr text-hvr-underline\" href=\"/cricket-news/108757/icc-cricket-world-cup-2019-mitchell-starc-australia-new-zealand-five-wicket-haul\" title=\"Records don\\'t mean much if we don\\'t win the World Cup: Starc\">Records don\\'t mean much if we don\\'t win the World Cup: Starc</a><div class=\"cb-nws-time\">1d ago</div></div><div class=\"cb-col-100 cb-lst-itm cb-lst-itm-sm\"><a class=\"cb-nws-hdln-ancr text-hvr-underline\" href=\"/cricket-news/108750/womens-ashes-2019-fran-wilson-in-england-squad-for-first-ashes-one-dayer\" title=\"Fran Wilson in England squad for first Ashes one-dayer\">Fran Wilson in England squad for first Ashes one-dayer</a><div class=\"cb-nws-time\">2d ago</div></div><div class=\"cb-hm-mr-lnk\"><a class=\"cb-font-12 cb-text-link\" href=\"/cricket-news/latest-news\" title=\"More News\"><i>More News..</i></a></div></div></div> <div class=\"cb-bg-white\" id=\"hm-photos-blk\"> <h2 class=\"cb-hm-lft-hdr cb-lv-scr-mtch-hdr\">LATEST PHOTOS</h2> <div class=\\'cb-hm-lft\\'> <div class=\"cb-col-100 cb-lst-itm cb-lst-itm-sm\"> <a href=\"/cricket-gallery/4637/sri-lanka-vs-west-indies-icc-world-cup-2019-match-39\" title=\"Sri Lanka vs West Indies, ICC World Cup 2019, Match 39\"> <img width=\"165\" height=\"95\" class=\"lazy-loading pad-0\" alt=\"Sri Lanka vs West Indies, ICC World Cup 2019, Match 39\" src=\"\" source=\"/a/img/v1/165x95/i1/c176419/sri-lanka-vs-west-indies-icc.jpg\"/> <div class=\"cb-nws-hdln\">Sri Lanka vs West Indies, ICC World Cup 2019, Match 39</div> <span class=\"cb-nws-time\">Mon, Jul 01 2019</span> </a> </div> <div class=\"cb-col-100 cb-lst-itm cb-lst-itm-sm\"> <a href=\"/cricket-gallery/4636/england-vs-india-icc-world-cup-2019-match-38\" title=\"England vs India, ICC World Cup 2019, Match 38\"> <img width=\"165\" height=\"95\" class=\"lazy-loading pad-0\" alt=\"England vs India, ICC World Cup 2019, Match 38\" src=\"\" source=\"/a/img/v1/165x95/i1/c176093/england-vs-india-icc-world-cu.jpg\"/> <div class=\"cb-nws-hdln\">England vs India, ICC World Cup 2019, Match 38</div> <span class=\"cb-nws-time\">Sun, Jun 30 2019</span> </a> </div> <div class=\"cb-col-100 cb-lst-itm cb-lst-itm-sm\"> <a href=\"/cricket-gallery/4635/afghanistan-v-pakistan-icc-world-cup-2019\" title=\"Afghanistan v Pakistan, ICC World Cup 2019 \"> <img width=\"165\" height=\"95\" class=\"lazy-loading pad-0\" alt=\"Afghanistan v Pakistan, ICC World Cup 2019 \" src=\"\" source=\"/a/img/v1/165x95/i1/c175989/afghanistan-v-pakistan-icc-wo.jpg\"/> <div class=\"cb-nws-hdln\">Afghanistan v Pakistan, ICC World Cup 2019 </div> <span class=\"cb-nws-time\">Sat, Jun 29 2019</span> </a> </div> <div class=\"cb-col-100 cb-lst-itm cb-lst-itm-sm\"> <a href=\"/cricket-gallery/4634/new-zealand-vs-australia-icc-world-cup-match-37\" title=\"New Zealand vs Australia, ICC World Cup, Match 37\"> <img width=\"165\" height=\"95\" class=\"lazy-loading pad-0\" alt=\"New Zealand vs Australia, ICC World Cup, Match 37\" src=\"\" source=\"/a/img/v1/165x95/i1/c175911/new-zealand-vs-australia-icc.jpg\"/> <div class=\"cb-nws-hdln\">New Zealand vs Australia, ICC World Cup, Match 37</div> <span class=\"cb-nws-time\">Sat, Jun 29 2019</span> </a> </div> <div class=\"cb-col-100 cb-lst-itm cb-lst-itm-sm\"> <a href=\"/cricket-gallery/4633/south-africa-v-sri-lanka-icc-world-cup-2019\" title=\"South Africa v Sri Lanka, ICC World Cup 2019\"> <img width=\"165\" height=\"95\" class=\"lazy-loading pad-0\" alt=\"South Africa v Sri Lanka, ICC World Cup 2019\" src=\"\" source=\"/a/img/v1/165x95/i1/c175780/south-africa-v-sri-lanka-icc.jpg\"/> <div class=\"cb-nws-hdln\">South Africa v Sri Lanka, ICC World Cup 2019</div> <span class=\"cb-nws-time\">Fri, Jun 28 2019</span> </a> </div> <div class=\"cb-col-100 cb-lst-itm cb-lst-itm-sm\"> <a href=\"/cricket-gallery/4632/west-indies-vs-india-icc-world-cup-2019-match-34\" title=\"West Indies vs India, ICC World Cup 2019, Match 34\"> <img width=\"165\" height=\"95\" class=\"lazy-loading pad-0\" alt=\"West Indies vs India, ICC World Cup 2019, Match 34\" src=\"\" source=\"/a/img/v1/165x95/i1/c175594/west-indies-vs-india-icc-worl.jpg\"/> <div class=\"cb-nws-hdln\">West Indies vs India, ICC World Cup 2019, Match 34</div> <span class=\"cb-nws-time\">Thu, Jun 27 2019</span> </a> </div> <div class=\" cb-hm-mr-lnk\"> <a class=\"cb-font-12 cb-text-link\" href=\"/cricket-photo-gallery\" title=\"More Photos\"><i>More Photos..</i></a> </div> </div> </div> <div class=\"cb-bg-white\"> <h2 class=\"cb-hm-lft-hdr cb-lv-scr-mtch-hdr\">SCHEDULE</h2> <div class=\\'cb-hm-lft\\'> <div class=\"cb-col-100 cb-lst-itm cb-lst-itm-sm\"> <div>Bangladesh vs India, Match 40</div> <div class=\"cb-nws-time\"><span class=\"schedule-date\" timestamp=\"1562059800000\" venue=\"+01:00\" format=\"EEE MMM dd\"></span>&nbsp;&#8226;&nbsp;<span class=\"schedule-date\" timestamp=\"1562059800000\" venue=\"+01:00\" format=\"h:mm a\"></span>&nbsp;GMT</div> </div> <div class=\"cb-col-100 cb-lst-itm cb-lst-itm-sm\"> <div>England vs New Zealand, Match 41</div> <div class=\"cb-nws-time\"><span class=\"schedule-date\" timestamp=\"1562146200000\" venue=\"+01:00\" format=\"EEE MMM dd\"></span>&nbsp;&#8226;&nbsp;<span class=\"schedule-date\" timestamp=\"1562146200000\" venue=\"+01:00\" format=\"h:mm a\"></span>&nbsp;GMT</div> </div> <div class=\"cb-col-100 cb-lst-itm cb-lst-itm-sm\"> <div>Afghanistan vs West Indies, Match 42</div> <div class=\"cb-nws-time\"><span class=\"schedule-date\" timestamp=\"1562232600000\" venue=\"+01:00\" format=\"EEE MMM dd\"></span>&nbsp;&#8226;&nbsp;<span class=\"schedule-date\" timestamp=\"1562232600000\" venue=\"+01:00\" format=\"h:mm a\"></span>&nbsp;GMT</div> </div> <div class=\"cb-col-100 cb-lst-itm cb-lst-itm-sm\"> <div>Ireland vs Zimbabwe, 2nd ODI</div> <div class=\"cb-nws-time\"><span class=\"schedule-date\" timestamp=\"1562233500000\" venue=\"+01:00\" format=\"EEE MMM dd\"></span>&nbsp;&#8226;&nbsp;<span class=\"schedule-date\" timestamp=\"1562233500000\" venue=\"+01:00\" format=\"h:mm a\"></span>&nbsp;GMT</div> </div> <div class=\"cb-col-100 cb-lst-itm cb-lst-itm-sm\"> <div>Pakistan vs Bangladesh, Match 43</div> <div class=\"cb-nws-time\"><span class=\"schedule-date\" timestamp=\"1562319000000\" venue=\"+01:00\" format=\"EEE MMM dd\"></span>&nbsp;&#8226;&nbsp;<span class=\"schedule-date\" timestamp=\"1562319000000\" venue=\"+01:00\" format=\"h:mm a\"></span>&nbsp;GMT</div> </div> <div class=\"cb-col-100 cb-lst-itm cb-lst-itm-sm\"> <div>Sri Lanka vs India, Match 44</div> <div class=\"cb-nws-time\"><span class=\"schedule-date\" timestamp=\"1562405400000\" venue=\"+01:00\" format=\"EEE MMM dd\"></span>&nbsp;&#8226;&nbsp;<span class=\"schedule-date\" timestamp=\"1562405400000\" venue=\"+01:00\" format=\"h:mm a\"></span>&nbsp;GMT</div> </div> <div class=\"cb-col-100 cb-lst-itm cb-lst-itm-sm\"> <div>Australia vs South Africa, Match 45</div> <div class=\"cb-nws-time\"><span class=\"schedule-date\" timestamp=\"1562416200000\" venue=\"+01:00\" format=\"EEE MMM dd\"></span>&nbsp;&#8226;&nbsp;<span class=\"schedule-date\" timestamp=\"1562416200000\" venue=\"+01:00\" format=\"h:mm a\"></span>&nbsp;GMT</div> </div> <div class=\"cb-hm-mr-lnk\"> <a class=\"cb-font-12 cb-text-link\" href=\"/cricket-schedule/upcoming-series/international\" title=\"Cricket Schedule\"><i>More Matches..</i></a> </div> </div> </div> </div><div class=\"cb-col cb-col-47\"><div id=\"video_playlist\"> <script> CBQueue.push(function(){ if((_GEO.country == \"US\" || _GEO.country == \"CA\") && false){ _ele(\\'#video_playlist\\').html(\\'<div class=\"cb-bg-white\" style=\"margin:0 5px 10px;\"><div class=\"kaltura-playlist\" uiconf_id=\"33885652\" entry_id=\"0_lvphia47\" uiautoplay=\"false\" style=\"width:420px;height:385px;padding:10px 15px;\"></div></div>\\'); }else if([\"AE\",\"SA\",\"KW\",\"BH\",\"QA\",\"OM\",\"GB\"].indexOf(_GEO.country) != -1 && false){ var eplr = document.createElement(\\'script\\'); eplr.type = \\'text/javascript\\'; eplr.async = true; eplr.src = \\'https://player.performgroup.com/eplayer.js#ccb175de91b4f3c5c4bbed6a35.qjdsydmry69m1je82zk8il975\\'; var vpl = document.getElementById(\\'video_playlist\\'); vpl.className = \"cb-bg-white\"; vpl.style.margin = \"0px 5px 10px\"; vpl.appendChild(eplr); } }); </script></div><script>CBQueue.push(function(){\\tif(_GEO.country == \"US\" || _GEO.country == \"CA\"){\\t_ele(\\'#kaltura-video-player\\').removeClass(\\'disp-none\\');\\t}\\tif(_GEO.country == \"IN\" ){\\t_ele(\\'specials-home-module\\').removeClass(\\'disp-none\\');\\t}\\n});</script><div class=\"cb-col cb-hm-mid cb-bg-white cb-hmpage\" style=\"clear:both\"> <div class=\\'big-crd-main cb-bg-white\\'><div class=\"crd-cntxt\"><span>ICC CRICKET WORLD CUP 2019</span></div><a href=\"/cricket-news/108781/pooran-ton-in-vain-as-sl-snatch-23-run-win\" title=\"Pooran ton in vain as SL snatch 23-run win\"><img\\theight=\"235\"\\twidth=\"420\" alt=\"pooran-ton-in-vain-as-sl-snatch-23-run-win\" title=\"Pooran ton in vain as SL snatch 23-run win\" itemprop =\"image\" src=\"/a/img/v1/420x235/i1/c176434/pooran-ton-in-vain-as-sl-snatc.jpg\" /></a><h2 class=\"big-crd-hdln\"><a href=\"/cricket-news/108781/pooran-ton-in-vain-as-sl-snatch-23-run-win\" title=\"Pooran ton in vain as SL snatch 23-run win\"> Pooran ton in vain as SL snatch 23-run win</a></h2><div class=\"cb-nws-intr\">Avishka Fernando stroked his maiden ODI ton, Lasith Malinga bagged 3 wickets to down West Indies</div><div class=\"big-crd-reltd-itm\"><a class=\"big-crd-rltd-txt\" href=\"/cricket-news/108780/fernando-a-show-of-promise-and-an-investment-worth-sustaining\" title=\"Fernando - A show of promise and an investment worth sustaining\">Fernando - A show of promise and an investment worth sustaining</a></div><div class=\"big-crd-reltd-itm\"><a class=\"big-crd-rltd-txt\" href=\"/cricket-news/108785/expect-big-things-from-pooran-holder\" title=\"Expect big things from Pooran: Holder\">Expect big things from Pooran: Holder</a></div><div class=\"big-crd-reltd-itm\"><a class=\"big-crd-rltd-txt\" href=\"/cricket-news/108777/is-chris-gayle-trying-too-hard-to-be-loved\" title=\"Is Chris Gayle trying too hard to be loved?\">Is Chris Gayle trying too hard to be loved?</a></div><div class=\"big-crd-reltd-itm\"><a class=\"big-crd-rltd-txt\" href=\"/cricket-news/108772/as-it-happened\" title=\"As it happened\">As it happened</a></div></div><div class=\\'big-crd-main cb-bg-white\\'><div class=\"crd-cntxt\"><span>ICC CRICKET WORLD CUP 2019</span></div><a href=\"/cricket-news/108776/bangladesh-look-to-keep-distractions-at-bay-for-must-win-clash\" title=\"Bangladesh look to keep distractions at bay for must-win clash\"><img\\theight=\"235\"\\twidth=\"420\" alt=\"bangladesh-look-to-keep-distractions-at-bay-for-must-win-clash\" title=\"Bangladesh look to keep distractions at bay for must-win clash\" itemprop =\"image\" src=\"/a/img/v1/420x235/i1/c176349/bangladesh-look-to-keep-distra.jpg\" /></a><h2 class=\"big-crd-hdln\"><a href=\"/cricket-news/108776/bangladesh-look-to-keep-distractions-at-bay-for-must-win-clash\" title=\"Bangladesh look to keep distractions at bay for must-win clash\"> Bangladesh look to keep distractions at bay for must-win clash</a></h2><div class=\"cb-nws-intr\">India will play Bangladesh on the same surface that they played on against England in Edgbaston</div><div class=\"big-crd-reltd-itm\"><a class=\"big-crd-rltd-txt\" href=\"/cricket-news/108771/vijay-shankar-ruled-out-of-world-cup-agarwal-named-replacement\" title=\"Vijay Shankar ruled out of World Cup, Agarwal named replacement\">Vijay Shankar ruled out of World Cup, Agarwal named replacement</a></div><div class=\"big-crd-reltd-itm\"><a class=\"big-crd-rltd-txt\" href=\"/cricket-news/108773/bangar-comes-to-dhonis-defence-amidst-intent-talk\" title=\"Bangar comes to Dhoni\\'s defence amidst intent talk \">Bangar comes to Dhoni\\'s defence amidst intent talk </a></div><div class=\"big-crd-reltd-itm\"><a class=\"big-crd-rltd-txt\" href=\"/cricket-news/108762/training-the-tigers-to-pounce\" title=\"Training the Tigers to pounce\">Training the Tigers to pounce</a></div><div class=\"big-crd-reltd-itm\"><a class=\"big-crd-rltd-txt\" href=\"/cricket-news/108748/mosaddek-hossain-bangladeshs-latest-jack-in-the-pack\" title=\"Mosaddek Hossain, Bangladesh\\'s \\'latest\\' jack in the pack\">Mosaddek Hossain, Bangladesh\\'s \\'latest\\' jack in the pack</a></div><div class=\"big-crd-reltd-itm\"><a class=\"big-crd-rltd-txt\" href=\"/cricket-news/108775/head-to-head-bangladesh-vs-india\" title=\"Head to Head: Bangladesh vs India\">Head to Head: Bangladesh vs India</a></div></div><div class=\"sml-crd-main\"><div class=\"crd-cntxt\">ICC CRICKET WORLD CUP, 2019</div><div class=\"cb-col-33 cb-col\"><a href=\"/cricket-news/108770/when-discomfort-rekindled-the-bairstow-fire\" title=\"When discomfort rekindled the Bairstow fire\"><img\\theight=\"75\"\\twidth=\"135\"\\tclass=\"lazy-loading\" alt=\"when-discomfort-rekindled-the-bairstow-fire\" source=\"/a/img/v1/135x75/i1/c176246/when-discomfort-rekindled-the.jpg\" src=\"\" style=\"padding:0px;\"/></a></div><div class=\"cb-col-67 cb-col cb-hdln-hght\"><h3 class=\"sml-crd-hdln\"><a href=\"/cricket-news/108770/when-discomfort-rekindled-the-bairstow-fire\" title=\"When discomfort rekindled the Bairstow fire\">When discomfort rekindled the Bairstow fire</a></h3><div class=\"sml-crd-subtxt\">11h ago</div></div><div class=\"cb-nws-intr\">He is the type who needs pressure on himself to thrive, and thrive he did against India to re-ignite England\\'s semis hopes</div> <div class=\"big-crd-reltd-itm\"> <a class=\"big-crd-rltd-txt\" href=\"/cricket-news/108779/liam-plunkett-the-low-profile-assassin\" title=\"Liam Plunkett - the low profile assassin\">Liam Plunkett - the low profile assassin</a></div><div class=\"big-crd-reltd-itm\"> <a class=\"big-crd-rltd-txt\" href=\"/cricket-news/108764/bairstow-ton-overshadows-rohit-hundred-in-englands-crucial-win\" title=\"Bairstow ton overshadows Rohit hundred in England\\'s crucial win\">Bairstow ton overshadows Rohit hundred in England\\'s crucial win</a></div><div class=\"big-crd-reltd-itm\"> <a class=\"big-crd-rltd-txt\" href=\"/cricket-news/108766/kohli-expresses-surprise-over-edgbaston-playing-conditions\" title=\"Kohli expresses surprise over Edgbaston playing conditions\">Kohli expresses surprise over Edgbaston playing conditions</a></div></div><div class=\"sml-crd-main\"><div class=\"crd-cntxt\">WOMEN\\'S ASHES, 2019</div><div class=\"cb-col-33 cb-col\"><a href=\"/cricket-news/108784/knight-at-the-forefront-of-englands-reinvention\" title=\"Knight at the forefront of England\\'s reinvention\"><img\\theight=\"75\"\\twidth=\"135\"\\tclass=\"lazy-loading\" alt=\"knight-at-the-forefront-of-englands-reinvention\" source=\"/a/img/v1/135x75/i1/c176442/knight-at-the-forefront-of-eng.jpg\" src=\"\" style=\"padding:0px;\"/></a></div><div class=\"cb-col-67 cb-col cb-hdln-hght\"><h3 class=\"sml-crd-hdln\"><a href=\"/cricket-news/108784/knight-at-the-forefront-of-englands-reinvention\" title=\"Knight at the forefront of England\\'s reinvention\">Knight at the forefront of England\\'s reinvention</a></h3><div class=\"sml-crd-subtxt\">11h ago</div></div><div class=\"cb-nws-intr\">Of carrom balls, open-mindedness, adaptability and the Women\\'s Ashes</div> <div class=\"big-crd-reltd-itm\"> <a class=\"big-crd-rltd-txt\" href=\"/cricket-news/108778/lanning-harps-on-the-importance-of-new-ball-battle\" title=\"Lanning harps on the importance of new-ball battle\">Lanning harps on the importance of new-ball battle</a></div></div><div class=\"sml-crd-main\"><div class=\"crd-cntxt\">2019 WORLD CUP</div><div class=\"cb-col-33 cb-col\"><a href=\"/cricket-news/108753/new-zealand-get-sucked-into-time-warp-at-lords\" title=\"New Zealand get sucked into time warp at Lord\\'s\"><img\\theight=\"75\"\\twidth=\"135\"\\tclass=\"lazy-loading\" alt=\"new-zealand-get-sucked-into-time-warp-at-lords\" source=\"/a/img/v1/135x75/i1/c176032/new-zealand-get-sucked-into-ti.jpg\" src=\"\" style=\"padding:0px;\"/></a></div><div class=\"cb-col-67 cb-col cb-hdln-hght\"><h3 class=\"sml-crd-hdln\"><a href=\"/cricket-news/108753/new-zealand-get-sucked-into-time-warp-at-lords\" title=\"New Zealand get sucked into time warp at Lord\\'s\">New Zealand get sucked into time warp at Lord\\'s</a></h3><div class=\"sml-crd-subtxt\">22h ago</div></div><div class=\"cb-nws-intr\">In a game that seemed to have a throwback theme to it, Aaron Finch\\'s side showed the ruthlessness of the immensely successful Australian side from the 90s</div> <div class=\"big-crd-reltd-itm\"> <a class=\"big-crd-rltd-txt\" href=\"/cricket-news/108749/australia-keep-new-zealand-waiting-on-semifinal-berth\" title=\"Australia keep New Zealand waiting on semifinal berth\">Report /\\tAustralia keep New Zealand waiting on semifinal berth</a></div><div class=\"big-crd-reltd-itm\"> <a class=\"big-crd-rltd-txt\" href=\"/cricket-news/108757/records-dont-mean-much-if-we-dont-win-the-world-cup-starc\" title=\"Records don\\'t mean much if we don\\'t win the World Cup: Starc\">Records don\\'t mean much if we don\\'t win the World Cup: Starc</a></div></div><div class=\"sml-crd-main\"><div class=\"crd-cntxt\">2019 WORLD CUP</div><div class=\"cb-col-33 cb-col\"><a href=\"/cricket-news/108751/imad-wasim-rises-above-the-frenzy\" title=\"Imad Wasim rises above the frenzy\"><img\\theight=\"75\"\\twidth=\"135\"\\tclass=\"lazy-loading\" alt=\"imad-wasim-rises-above-the-frenzy\" source=\"/a/img/v1/135x75/i1/c176030/imad-wasim-rises-above-the-fre.jpg\" src=\"\" style=\"padding:0px;\"/></a></div><div class=\"cb-col-67 cb-col cb-hdln-hght\"><h3 class=\"sml-crd-hdln\"><a href=\"/cricket-news/108751/imad-wasim-rises-above-the-frenzy\" title=\"Imad Wasim rises above the frenzy\">Imad Wasim rises above the frenzy</a></h3><div class=\"sml-crd-subtxt\">22h ago</div></div><div class=\"cb-nws-intr\">In a must-win game, the left-hander scored a 49 that proved to be as valuable as Haris Sohail\\'s 89 and Babar Azam\\'s 101 as Pakistan live to die another day</div> <div class=\"big-crd-reltd-itm\"> <a class=\"big-crd-rltd-txt\" href=\"/cricket-news/108752/riaz-overcomes-broken-finger-pressure-to-repay-captains-faith\" title=\"Riaz overcomes broken finger, pressure to repay captain\\'s faith\">Riaz overcomes broken finger, pressure to repay captain\\'s faith</a></div><div class=\"big-crd-reltd-itm\"> <a class=\"big-crd-rltd-txt\" href=\"/cricket-news/108754/hamid-hassans-headingley-heartbreak\" title=\"Hamid Hassan\\'s Headingley heartbreak\">Hamid Hassan\\'s Headingley heartbreak</a></div><div class=\"big-crd-reltd-itm\"> <a class=\"big-crd-rltd-txt\" href=\"/cricket-news/108746/imad-effort-helps-pakistan-sneak-into-top-4\" title=\"Imad effort helps Pakistan sneak into top 4\">Imad effort helps Pakistan sneak into top 4</a></div><div class=\"big-crd-reltd-itm\"> <a class=\"big-crd-rltd-txt\" href=\"/cricket-news/108738/crowd-trouble-mars-headingley-thriller-after-scuffles-in-stands\" title=\"Crowd trouble mars Headingley thriller after scuffles in stands\">Crowd trouble mars Headingley thriller after scuffles in stands</a></div></div><div class=\"sml-crd-main\"><div class=\"crd-cntxt\">WORLD CUP 2019</div><div class=\"cb-col-33 cb-col\"><a href=\"/cricket-news/108720/no-plan-to-retire-immediately-after-world-cup-mortaza\" title=\"No plan to retire immediately after World Cup: Mortaza\"><img\\theight=\"75\"\\twidth=\"135\"\\tclass=\"lazy-loading\" alt=\"no-plan-to-retire-immediately-after-world-cup-mortaza\" source=\"/a/img/v1/135x75/i1/c175701/no-plan-to-retire-immediately.jpg\" src=\"\" style=\"padding:0px;\"/></a></div><div class=\"cb-col-67 cb-col cb-hdln-hght\"><h3 class=\"sml-crd-hdln\"><a href=\"/cricket-news/108720/no-plan-to-retire-immediately-after-world-cup-mortaza\" title=\"No plan to retire immediately after World Cup: Mortaza\">No plan to retire immediately after World Cup: Mortaza</a></h3><div class=\"sml-crd-subtxt\">3d ago</div></div><div class=\"cb-nws-intr\">The Bangladesh captain had earlier announced 2019 will be his last World Cup, adding fuel to the retirement speculations</div> <div class=\"big-crd-reltd-itm\"> <a class=\"big-crd-rltd-txt\" href=\"/cricket-news/108686/gayle-backtracks-on-odi-retirement-available-for-india-series\" title=\"Gayle backtracks on ODI retirement, available for India series\">Gayle backtracks on ODI retirement, available for India series</a></div></div><div class=\\'big-crd-main cb-bg-white\\'><div class=\"crd-cntxt\"><span>WHAT\\'S THE BUZZ</span></div><a href=\"/cricket-news/108171/world-cup-pulse\" title=\"World Cup Pulse\"><img\\theight=\"235\"\\twidth=\"420\" alt=\"world-cup-pulse\" title=\"World Cup Pulse\" itemprop =\"image\" src=\"/a/img/v1/420x235/i1/c170196/world-cup-pulse.jpg\" /></a><h2 class=\"big-crd-hdln\"><a href=\"/cricket-news/108171/world-cup-pulse\" title=\"World Cup Pulse\"> World Cup Pulse</a></h2><div class=\"cb-nws-intr\">All that\\'s happening on and off the field at the 2019 World Cup in England & Wales</div></div><div class=\"sml-crd-main\"><div class=\"crd-cntxt\">COUNTY CHAMPIONSHIP DIVISION ONE 2019</div><div class=\"cb-col-33 cb-col\"><a href=\"/cricket-news/108782/browne-163-puts-essex-in-command\" title=\"Browne 163* puts Essex in command\"><img\\theight=\"75\"\\twidth=\"135\"\\tclass=\"lazy-loading\" alt=\"browne-163-puts-essex-in-command\" source=\"/a/img/v1/135x75/i1/c176433/browne-163-puts-essex-in-comm.jpg\" src=\"\" style=\"padding:0px;\"/></a></div><div class=\"cb-col-67 cb-col cb-hdln-hght\"><h3 class=\"sml-crd-hdln\"><a href=\"/cricket-news/108782/browne-163-puts-essex-in-command\" title=\"Browne 163* puts Essex in command\">Browne 163* puts Essex in command</a></h3><div class=\"sml-crd-subtxt\">12h ago</div></div><div class=\"cb-nws-intr\">Catch all the updates from the second day\\'s play of County Championship Division One 2019 </div> </div><div class=\"sml-crd-main\"><div class=\"crd-cntxt\">COUNTY CHAMPIONSHIP DIVISION 2</div><div class=\"cb-col-33 cb-col\"><a href=\"/cricket-news/108783/ben-sandersons-six-fer-puts-northamptonshire-on-top-against-sussex\" title=\"Ben Sanderson\\'s six-fer puts Northamptonshire on top against Sussex\"><img\\theight=\"75\"\\twidth=\"135\"\\tclass=\"lazy-loading\" alt=\"ben-sandersons-six-fer-puts-northamptonshire-on-top-against-sussex\" source=\"/a/img/v1/135x75/i1/c176437/ben-sandersons-six-fer-puts-n.jpg\" src=\"\" style=\"padding:0px;\"/></a></div><div class=\"cb-col-67 cb-col cb-hdln-hght\"><h3 class=\"sml-crd-hdln\"><a href=\"/cricket-news/108783/ben-sandersons-six-fer-puts-northamptonshire-on-top-against-sussex\" title=\"Ben Sanderson\\'s six-fer puts Northamptonshire on top against Sussex\">Ben Sanderson\\'s six-fer puts Northamptonshire on top against Sussex</a></h3><div class=\"sml-crd-subtxt\">12h ago</div></div><div class=\"cb-nws-intr\">Brett DOliviera picked up a 7-fer but Worcestershire were well behind in the game against Glamorgan</div> </div><div class=\"sml-crd-main\"><div class=\"crd-cntxt\">CLIMBING HIGH</div><div class=\"cb-col-33 cb-col\"><a href=\"/cricket-news/108740/deepti-sharmas-stocks-keep-rising-higher-and-higher\" title=\"Deepti Sharma\\'s stocks keep rising higher and higher\"><img\\theight=\"75\"\\twidth=\"135\"\\tclass=\"lazy-loading\" alt=\"deepti-sharmas-stocks-keep-rising-higher-and-higher\" source=\"/a/img/v1/135x75/i1/c175874/deepti-sharmas-stocks-keep-ri.jpg\" src=\"\" style=\"padding:0px;\"/></a></div><div class=\"cb-col-67 cb-col cb-hdln-hght\"><h3 class=\"sml-crd-hdln\"><a href=\"/cricket-news/108740/deepti-sharmas-stocks-keep-rising-higher-and-higher\" title=\"Deepti Sharma\\'s stocks keep rising higher and higher\">Deepti Sharma\\'s stocks keep rising higher and higher</a></h3><div class=\"sml-crd-subtxt\">2d ago</div></div><div class=\"cb-nws-intr\">The Indian allrounder will be the fourth Indian to play in the WCSL - England\\'s T20 League.</div> <div class=\"big-crd-reltd-itm\"> <a class=\"big-crd-rltd-txt\" href=\"/cricket-news/108721/deepti-sharma-to-play-for-western-storm\" title=\"Deepti Sharma to play for Western Storm\">Deepti Sharma to play for Western Storm</a></div></div><div class=\"sml-crd-main\"><div class=\"crd-cntxt\">SOUTH AFRICA A TOUR OF INDIA</div><div class=\"cb-col-33 cb-col\"><a href=\"/cricket-news/108745/aiden-markram-and-temba-bavuma-to-lead-a-sides-in-india\" title=\"Aiden Markram and Temba Bavuma to lead \\'A\\' sides in India\"><img\\theight=\"75\"\\twidth=\"135\"\\tclass=\"lazy-loading\" alt=\"aiden-markram-and-temba-bavuma-to-lead-a-sides-in-india\" source=\"/a/img/v1/135x75/i1/c175953/aiden-markram-and-temba-bavuma.jpg\" src=\"\" style=\"padding:0px;\"/></a></div><div class=\"cb-col-67 cb-col cb-hdln-hght\"><h3 class=\"sml-crd-hdln\"><a href=\"/cricket-news/108745/aiden-markram-and-temba-bavuma-to-lead-a-sides-in-india\" title=\"Aiden Markram and Temba Bavuma to lead \\'A\\' sides in India\">Aiden Markram and Temba Bavuma to lead \\'A\\' sides in India</a></h3><div class=\"sml-crd-subtxt\">2d ago</div></div><div class=\"cb-nws-intr\">South Africa A will play five one-dayers and two four-day games</div> </div><div class=\"sml-crd-main\"><div class=\"crd-cntxt\">OUTSIDE THE CIRCLE</div><div class=\"cb-col-33 cb-col\"><a href=\"/cricket-news/108716/much-ado-about-numbers\" title=\"Much ado about numbers\"><img\\theight=\"75\"\\twidth=\"135\"\\tclass=\"lazy-loading\" alt=\"much-ado-about-numbers\" source=\"/a/img/v1/135x75/i1/c175661/much-ado-about-numbers.jpg\" src=\"\" style=\"padding:0px;\"/></a></div><div class=\"cb-col-67 cb-col cb-hdln-hght\"><h3 class=\"sml-crd-hdln\"><a href=\"/cricket-news/108716/much-ado-about-numbers\" title=\"Much ado about numbers\">Much ado about numbers</a></h3><div class=\"sml-crd-subtxt\">4d ago</div></div><div class=\"cb-nws-intr\">Remarkable results away from the World Cup prompt controversy</div> </div></div></div><div class=\"cb-col cb-col-33\"> <div class=\"cb-col cb-col-100 cb-hm-rt-itm cb-bg-white\"> <div id=\"mpu\" class=\"ad-unit center-block \" style=\"min-height: 250px;\"></div> </div> <div id=\"strip_320x50\" class=\"ad-unit\"></div> <div class=\"cb-col cb-col-100 cb-hm-rt-itm cb-bg-white\" id=\"latest-vid-mod\" gtm-label=\\'Homepage\\'> <h4 class=\"cb-mdl-hdr\">FEATURED VIDEOS</h4> <div class=\"cb-col cb-col-100 cb-mid-wrp\"> <a target=\"_self\" href=\"/cricket-videos/39866/bangladesh-vs-india-match-40-preview\" class=\"suggested-video-gtm\" gtm-label=\" Bangladesh vs India, Match 40: Preview |39866\" title=\" Bangladesh vs India, Match 40: Preview \" > <div class=\"cb-pos-rel\"> <img class=\"cb-suggested-vid-img suggested-video-gtm\" gtm-label=\" Bangladesh vs India, Match 40: Preview |39866\" alt=\" Bangladesh vs India, Match 40: Preview \" gtm-label=\" Bangladesh vs India, Match 40: Preview |39866\" title=\" Bangladesh vs India, Match 40: Preview \" src=\"/a/img/v1/290x164/i1/c176440/bangladesh-vs-india-match-40.jpg\" height=\"164\" width=\"290\" /> <div class=\\'cb-vid-duration\\'>9:05</div> <div class=\"cb-cen\"> <div class=\"cb-vid-sm-ply-api\">&#9658;</div> </div> </div> <h4 class=\"text-hvr-underline suggested-video-gtm\" gtm-label=\" Bangladesh vs India, Match 40: Preview |39866\"> Bangladesh vs India, Match 40: Preview </h4> </a> <div class=\"cb-nws-time\">\\t12h ago </div> </div> <div class=\"cb-col cb-col-100 cb-mid-wrp\"> <a target=\"_self\" href=\"/cricket-videos/39830/india-will-be-more-secure-if-the-middle-order-fires-against-bangladesh-harsha-bhogle\" class=\"suggested-video-gtm\" gtm-label=\"India will be more secure if the middle-order fires against Bangladesh - Harsha Bhogle |39830\" title=\"India will be more secure if the middle-order fires against Bangladesh - Harsha Bhogle \" > <div class=\"cb-pos-rel\"> <img class=\"cb-suggested-vid-img suggested-video-gtm\" gtm-label=\"India will be more secure if the middle-order fires against Bangladesh - Harsha Bhogle |39830\" alt=\"India will be more secure if the middle-order fires against Bangladesh - Harsha Bhogle \" gtm-label=\"India will be more secure if the middle-order fires against Bangladesh - Harsha Bhogle |39830\" title=\"India will be more secure if the middle-order fires against Bangladesh - Harsha Bhogle \" src=\"/a/img/v1/290x164/i1/c176370/india-will-be-more-secure-if-t.jpg\" height=\"164\" width=\"290\" /> <div class=\\'cb-vid-duration\\'>6:38</div> <div class=\"cb-cen\"> <div class=\"cb-vid-sm-ply-api\">&#9658;</div> </div> </div> <h4 class=\"text-hvr-underline suggested-video-gtm\" gtm-label=\"India will be more secure if the middle-order fires against Bangladesh - Harsha Bhogle |39830\">India will be more secure if the middle-order fires against Bangladesh - Harsha Bhogle </h4> </a> <div class=\"cb-nws-time\">\\t15h ago </div> </div> <div class=\"cb-col cb-col-100 cb-mid-wrp\"> <a target=\"_self\" href=\"/cricket-videos/39811/india-aim-to-bounce-back-as-they-face-bangladesh-challenge-zaheer-khan\" class=\"suggested-video-gtm\" gtm-label=\"à¤\\xadà¤¾à¤°à¤¤ à¤ªà¤¿à¤\\x9bà¤²à¥\\x80 à¤¹à¤¾à¤° à¤\\x95à¥\\x8b à¤\\xadà¥\\x81à¤²à¤¾ à¤¬à¤¾à¤\\x82à¤\\x97à¥\\x8dà¤²à¤¾à¤¦à¥\\x87à¤¶ à¤\\x95à¥\\x87 à¤\\x96à¤¿à¤²à¤¾à¤«à¤¼ à¤\\x95à¤°à¤¨à¤¾ à¤\\x9aà¤¾à¤¹à¥\\x87à¤\\x97à¤¾ à¤\\x9cà¤¼à¥\\x8bà¤°à¤¦à¤¾à¤° à¤µà¤¾à¤ªà¤¸à¥\\x80 - à¤\\x9cà¤¼à¤¹à¥\\x80à¤° à¤\\x96à¤¼à¤¾à¤¨|39811\" title=\"à¤\\xadà¤¾à¤°à¤¤ à¤ªà¤¿à¤\\x9bà¤²à¥\\x80 à¤¹à¤¾à¤° à¤\\x95à¥\\x8b à¤\\xadà¥\\x81à¤²à¤¾ à¤¬à¤¾à¤\\x82à¤\\x97à¥\\x8dà¤²à¤¾à¤¦à¥\\x87à¤¶ à¤\\x95à¥\\x87 à¤\\x96à¤¿à¤²à¤¾à¤«à¤¼ à¤\\x95à¤°à¤¨à¤¾ à¤\\x9aà¤¾à¤¹à¥\\x87à¤\\x97à¤¾ à¤\\x9cà¤¼à¥\\x8bà¤°à¤¦à¤¾à¤° à¤µà¤¾à¤ªà¤¸à¥\\x80 - à¤\\x9cà¤¼à¤¹à¥\\x80à¤° à¤\\x96à¤¼à¤¾à¤¨\" > <div class=\"cb-pos-rel\"> <img class=\"cb-suggested-vid-img suggested-video-gtm\" gtm-label=\"à¤\\xadà¤¾à¤°à¤¤ à¤ªà¤¿à¤\\x9bà¤²à¥\\x80 à¤¹à¤¾à¤° à¤\\x95à¥\\x8b à¤\\xadà¥\\x81à¤²à¤¾ à¤¬à¤¾à¤\\x82à¤\\x97à¥\\x8dà¤²à¤¾à¤¦à¥\\x87à¤¶ à¤\\x95à¥\\x87 à¤\\x96à¤¿à¤²à¤¾à¤«à¤¼ à¤\\x95à¤°à¤¨à¤¾ à¤\\x9aà¤¾à¤¹à¥\\x87à¤\\x97à¤¾ à¤\\x9cà¤¼à¥\\x8bà¤°à¤¦à¤¾à¤° à¤µà¤¾à¤ªà¤¸à¥\\x80 - à¤\\x9cà¤¼à¤¹à¥\\x80à¤° à¤\\x96à¤¼à¤¾à¤¨|39811\" alt=\"à¤\\xadà¤¾à¤°à¤¤ à¤ªà¤¿à¤\\x9bà¤²à¥\\x80 à¤¹à¤¾à¤° à¤\\x95à¥\\x8b à¤\\xadà¥\\x81à¤²à¤¾ à¤¬à¤¾à¤\\x82à¤\\x97à¥\\x8dà¤²à¤¾à¤¦à¥\\x87à¤¶ à¤\\x95à¥\\x87 à¤\\x96à¤¿à¤²à¤¾à¤«à¤¼ à¤\\x95à¤°à¤¨à¤¾ à¤\\x9aà¤¾à¤¹à¥\\x87à¤\\x97à¤¾ à¤\\x9cà¤¼à¥\\x8bà¤°à¤¦à¤¾à¤° à¤µà¤¾à¤ªà¤¸à¥\\x80 - à¤\\x9cà¤¼à¤¹à¥\\x80à¤° à¤\\x96à¤¼à¤¾à¤¨\" gtm-label=\"à¤\\xadà¤¾à¤°à¤¤ à¤ªà¤¿à¤\\x9bà¤²à¥\\x80 à¤¹à¤¾à¤° à¤\\x95à¥\\x8b à¤\\xadà¥\\x81à¤²à¤¾ à¤¬à¤¾à¤\\x82à¤\\x97à¥\\x8dà¤²à¤¾à¤¦à¥\\x87à¤¶ à¤\\x95à¥\\x87 à¤\\x96à¤¿à¤²à¤¾à¤«à¤¼ à¤\\x95à¤°à¤¨à¤¾ à¤\\x9aà¤¾à¤¹à¥\\x87à¤\\x97à¤¾ à¤\\x9cà¤¼à¥\\x8bà¤°à¤¦à¤¾à¤° à¤µà¤¾à¤ªà¤¸à¥\\x80 - à¤\\x9cà¤¼à¤¹à¥\\x80à¤° à¤\\x96à¤¼à¤¾à¤¨|39811\" title=\"à¤\\xadà¤¾à¤°à¤¤ à¤ªà¤¿à¤\\x9bà¤²à¥\\x80 à¤¹à¤¾à¤° à¤\\x95à¥\\x8b à¤\\xadà¥\\x81à¤²à¤¾ à¤¬à¤¾à¤\\x82à¤\\x97à¥\\x8dà¤²à¤¾à¤¦à¥\\x87à¤¶ à¤\\x95à¥\\x87 à¤\\x96à¤¿à¤²à¤¾à¤«à¤¼ à¤\\x95à¤°à¤¨à¤¾ à¤\\x9aà¤¾à¤¹à¥\\x87à¤\\x97à¤¾ à¤\\x9cà¤¼à¥\\x8bà¤°à¤¦à¤¾à¤° à¤µà¤¾à¤ªà¤¸à¥\\x80 - à¤\\x9cà¤¼à¤¹à¥\\x80à¤° à¤\\x96à¤¼à¤¾à¤¨\" src=\"/a/img/v1/290x164/i1/c176337/india-aim-to-bounce-back-as-th.jpg\" height=\"164\" width=\"290\" /> <div class=\\'cb-vid-duration\\'>5:47</div> <div class=\"cb-cen\"> <div class=\"cb-vid-sm-ply-api\">&#9658;</div> </div> </div> <h4 class=\"text-hvr-underline suggested-video-gtm\" gtm-label=\"à¤\\xadà¤¾à¤°à¤¤ à¤ªà¤¿à¤\\x9bà¤²à¥\\x80 à¤¹à¤¾à¤° à¤\\x95à¥\\x8b à¤\\xadà¥\\x81à¤²à¤¾ à¤¬à¤¾à¤\\x82à¤\\x97à¥\\x8dà¤²à¤¾à¤¦à¥\\x87à¤¶ à¤\\x95à¥\\x87 à¤\\x96à¤¿à¤²à¤¾à¤«à¤¼ à¤\\x95à¤°à¤¨à¤¾ à¤\\x9aà¤¾à¤¹à¥\\x87à¤\\x97à¤¾ à¤\\x9cà¤¼à¥\\x8bà¤°à¤¦à¤¾à¤° à¤µà¤¾à¤ªà¤¸à¥\\x80 - à¤\\x9cà¤¼à¤¹à¥\\x80à¤° à¤\\x96à¤¼à¤¾à¤¨|39811\">à¤\\xadà¤¾à¤°à¤¤ à¤ªà¤¿à¤\\x9bà¤²à¥\\x80 à¤¹à¤¾à¤° à¤\\x95à¥\\x8b à¤\\xadà¥\\x81à¤²à¤¾ à¤¬à¤¾à¤\\x82à¤\\x97à¥\\x8dà¤²à¤¾à¤¦à¥\\x87à¤¶ à¤\\x95à¥\\x87 à¤\\x96à¤¿à¤²à¤¾à¤«à¤¼ à¤\\x95à¤°à¤¨à¤¾ à¤\\x9aà¤¾à¤¹à¥\\x87à¤\\x97à¤¾ à¤\\x9cà¤¼à¥\\x8bà¤°à¤¦à¤¾à¤° à¤µà¤¾à¤ªà¤¸à¥\\x80 - à¤\\x9cà¤¼à¤¹à¥\\x80à¤° à¤\\x96à¤¼à¤¾à¤¨</h4> </a> <div class=\"cb-nws-time\">\\t16h ago </div> </div> <div class=\"cb-col cb-col-100 cb-more-btn-cntnr\"> <a target=\"_self\" title =\"Click to view more videos\" href=\"/cricket-videos\" class=\"cb-more-btn\" role=\"button\">More Videos</a> </div> </div> <div class=\"cb-col cb-col-100 cb-hm-rt-itm cb-bg-white\"> <div id=\"mpu2\" class=\"ad-unit center-block\"></div> </div> <div class=\"cb-col cb-col-100 cb-hm-rt-itm cb-bg-white\"> <h4 class=\"cb-mdl-hdr\">Specials</h4> <div class=\"cb-col cb-col-100 cb-mid-wrp\"><a href=\"/cricket-news/108699/icc-cricket-world-cup-2019-new-zealand-craig-mcmillan-interview\" title=\"Craig McMillan - The batting innovator long before the T20 era\"><img class=\"cb-vid-img\" alt=\"Craig McMillan - The batting innovator long before the T20 era\" src=\"/i/news/fth/303x170/images/homepage/qck_1561594068.jpeg\" height=\"170\" width=\"303\"/><h4 class=\"text-hvr-underline\">Craig McMillan - The batting innovator long before the T20 era</h4></a><div class=\"cb-nws-intr\">The former New Zealand cricketer opens up about his playing days, the joy of playing against spin, facing Warne and McGrath and so much more</div></div><div class=\"cb-col cb-col-100 cb-mid-wrp\"><a href=\"/cricket-news/108667/the-indian-constant-in-mushtaq-mohammads-memory-trail\" title=\"The Indian constant in Mushtaq Mohammad\\'s memory trail\"><img class=\"cb-vid-img\" alt=\"The Indian constant in Mushtaq Mohammad\\'s memory trail\" src=\"/i/news/fth/303x170/images/homepage/qck_1561526653.jpeg\" height=\"170\" width=\"303\"/><h4 class=\"text-hvr-underline\">The Indian constant in Mushtaq Mohammad\\'s memory trail</h4></a><div class=\"cb-nws-intr\">Mushtaq Mohammad opens up about the Indian influences through his journey, his love for classical music, a chance meeting with Lata Mangeshkar and more in an exclusive chat</div></div><div class=\"cb-col cb-col-100 cb-mid-wrp\"><a href=\"/cricket-news/108602/afghanistan-pacer-hamid-hassans-promise-kept-as-he-embarks-on-last-lap\" title=\"Hamid Hassan\\'s promise kept as he embarks on last lap\"><img class=\"cb-vid-img\" alt=\"Hamid Hassan\\'s promise kept as he embarks on last lap\" src=\"/i/news/fth/303x170/images/homepage/qck_1561117801.jpeg\" height=\"170\" width=\"303\"/><h4 class=\"text-hvr-underline\">Hamid Hassan\\'s promise kept as he embarks on last lap</h4></a><div class=\"cb-nws-intr\">The Afghanistan pacer has battled through hurdles aplenty to live his World Cup dream, including a career-threatening injury a few years ago</div></div><div class=\"cb-col cb-col-100 cb-mid-wrp\"><a href=\"/cricket-news/108580/wahab-riaz-jofra-archer-faf-du-plessis-angelo-mathews-steve-smith-when-world-cup-stars-played-club-cricke\" title=\"When World Cup stars played club cricket\"><img class=\"cb-vid-img\" alt=\"When World Cup stars played club cricket\" src=\"/i/news/fth/303x170/images/homepage/qck_1561022281.jpeg\" height=\"170\" width=\"303\"/><h4 class=\"text-hvr-underline\">When World Cup stars played club cricket</h4></a><div class=\"cb-nws-intr\">The days when every great cricketer played in English league cricket may be gone, but there are still some at this World Cup who had such a stint. We speak to those who played with them</div></div><div class=\"cb-col cb-col-100 cb-mid-wrp\"><a href=\"/cricket-news/108598/2019-world-cup-joe-root-grandfather-don-root-don-bradman\" title=\"In conversation with grandpa Root\"><img class=\"cb-vid-img\" alt=\"In conversation with grandpa Root\" src=\"/i/news/fth/303x170/images/homepage/qck_1561083998.jpeg\" height=\"170\" width=\"303\"/><h4 class=\"text-hvr-underline\">In conversation with grandpa Root</h4></a><div class=\"cb-nws-intr\">Don, the 83-year-old grandfather of Joe Root, talks about seeing Bradman live as a 14-year-old, and now spending his retired life watching cricket</div></div> </div> <div class=\"cb-col cb-col-100 cb-hm-rt-itm cb-bg-white\"> <div id=\"mpu3\" class=\"ad-unit center-block\"></div> </div> </div> <span id=\"skin_right\" class=\"ad-unit\" style=\"overflow:hidden;position:fixed;top:0;left:calc(50% + 490px);margin-left:3px;z-index:-99;\"></span></div></div><div ng-cloak ng-if=\\'$root.$GEO.continent == \"EU\"\\'><div class=\"feedback-bar text-center cb-col-100 disp-none feedback-menu\" id=\"feedback-bar\" ng-controller=\"FeedbackCtrl\"\\tng-init=\"show_feedback_menu();\"><span class=\"feedback-txt\">We use cookies to improve your experience on our site and to show you non-personalized ads. Find out more in our <a style=\"color:#4A90E2;\" href=\"/info/privacy\">privacy policy</a> and <a style=\"color:#4A90E2;\" href=\"/info/privacy#cookie_policy\">cookie policy</a></span><button class=\"cb-feedback-btn blue-btn cb-cursor\" id=\"close_feedback_btn\" ng-click=\"close_feedback();\">OK</button></div></div><footer id=\"FooterWraper\" itemscope itemtype=\"http://schema.org/WPFooter\" ><div class=\"cb-footer cb-col-100 cb-col\"><div class=\\'cb-ftr-cntnr\\'><div class=\"cb-col-25 cb-col\"><a class=\"center-block\" href=\"/\"><div class=\"cb-ftr-logo cb-ico\"></div></a></div><div class=\"cb-col-25 cb-col\"><div class=\"text-left cb-font-16 text-bold\">MOBILE SITE & APPS</div><ul class=\"cb-ftr-ul\"><li class=\"cb-ftr-lst\"><a href=\"https://m.cricbuzz.com\" class=\"text-white\"><span class=\"cb-mobile-site cb-ico\"></span><span class=\"cb-footer-list-rt\">m.cricbuzz.com</span></a></li><li class=\"cb-ftr-lst\"><a class=\"text-white\" href=\"https://play.google.com/store/apps/details?id=com.cricbuzz.android\" target=\"_blank\"><span class=\"cb-app-android cb-ico\"></span><span class=\"cb-footer-list-rt\">Android</span></a></li><li class=\"cb-ftr-lst\"><a class=\"text-white\" href=\"https://itunes.apple.com/app/id360466413\" target=\"_blank\"><span class=\"cb-app-ios cb-ico\"></span><span class=\"cb-footer-list-rt\">iOS</span></a></li></ul></div><div class=\"cb-col-25 cb-col\"><div class=\"text-left cb-font-16 text-bold\">FOLLOW US ON</div><ul class=\"cb-ftr-ul\"><li class=\"cb-ftr-lst\"><a class=\"text-white\" href=\"https://www.facebook.com/cricbuzz\" target=\"_blank\"><span class=\"cb-social-fb cb-ico\"></span><span class=\"cb-footer-list-rt\">facebook</span></a></li><li class=\"cb-ftr-lst\"><a class=\"text-white\" href=\"https://twitter.com/cricbuzz\" target=\"_blank\"><span class=\"cb-social-twitter cb-ico\"></span><span class=\"cb-footer-list-rt\">twitter</span></a></li><li class=\"cb-ftr-lst\"><a class=\"text-white\" href=\"https://www.youtube.com/channel/UCSRQXk5yErn4e14vN76upOw\" target=\"_blank\"><span class=\"cb-social-ytbe cb-ico\"></span><span class=\"cb-footer-list-rt\">youtube</span></a></li><li class=\"cb-ftr-lst\"><a class=\"text-white\" href=\"https://in.pinterest.com/cricbuzz/\" target=\"_blank\"><span class=\"cb-social-pinterest cb-ico\"></span><span class=\"cb-footer-list-rt\">Pinterest</span></a></li></ul></div><div class=\"cb-col-25 cb-col\"><div class=\"text-left cb-font-16 text-bold\">COMPANY</div><ul class=\"cb-ftr-ul\"><li class=\"cb-ftr-lst\"><a class=\"text-white\" href=\"/careers\">Careers</a></li><li class=\"cb-ftr-lst\"><a class=\"text-white\" href=\"/info/advertise\">Advertise</a></li><li class=\"cb-ftr-lst\"><a class=\"text-white\" rel=\"nofollow\" href=\"/info/privacy\">Privacy Policy</a></li><li class=\"cb-ftr-lst\"><a class=\"text-white\" rel=\"nofollow\" href=\"/info/termsofuse\">Terms of Use</a></li><li class=\"cb-ftr-lst\"><a class=\"text-white\" href=\"/product-blog/cricbuzz-mobile-apps-tv-ad-cricket-ka-keeda\">Cricbuzz TV Ads</a></li></ul></div><div class=\\'cb-col-100 cb-col cb-ftr-cpyrght\\'>&copy; 2019 Cricbuzz.com, Times Internet Limited. All rights reserved | <a class=\\'cb-ftr-cpyrght text-hvr-underline\\' href=\"http://timesofindia.indiatimes.com/\" target=\"_blank\">The Times of India</a> | <a href=\"http://navbharattimes.indiatimes.com/\" target=\"_blank\" class=\\'cb-ftr-cpyrght text-hvr-underline\\'>Navbharat Times</a></div></div></div></footer><script type=\"text/javascript\">var script_tag = document.getElementsByTagName(\\'script\\')[0];\\t(function() {\\tvar cmin = document.createElement(\\'script\\'); cmin.type = \\'text/javascript\\'; cmin.async = true;\\tcmin.src = \\'/dist/js/cricbuzz.min.6501.js\\';\\tscript_tag.parentNode.insertBefore(cmin, script_tag);\\t})();</script><noscript><iframe src=\"//www.googletagmanager.com/ns.html?id=GTM-PGNCT7\"\\theight=\"0\" width=\"0\" style=\"display:none;visibility:hidden\"></iframe></noscript><script>(function(w,d,s,l,i){w[l]=w[l]||[];w[l].push({\\'gtm.start\\':\\tnew Date().getTime(),event:\\'gtm.js\\'});var f=d.getElementsByTagName(s)[0],\\tj=d.createElement(s),dl=l!=\\'dataLayer\\'?\\'&l=\\'+l:\\'\\';j.async=true;j.src=\\t\\'//www.googletagmanager.com/gtm.js?id=\\'+i+dl;f.parentNode.insertBefore(j,f);\\t})(window,document,\\'script\\',\\'dataLayer\\',\\'GTM-PGNCT7\\');</script><script>window.onerror = function(message, file, line) {\\tvar sFormattedMessage = \\'[\\' + file + \\' (\\' + line + \\')] \\' + message;\\tdataLayer.push({\\'EventAction\\': \"Application\",\\'EventLabel\\': sFormattedMessage,\\'event\\': \\'Exceptions\\'});\\t}</script> </body></html>'"
      ]
     },
     "execution_count": 58,
     "metadata": {},
     "output_type": "execute_result"
    }
   ],
   "source": [
    "url.text"
   ]
  },
  {
   "cell_type": "code",
   "execution_count": 59,
   "metadata": {},
   "outputs": [],
   "source": [
    "Soup=url.text"
   ]
  },
  {
   "cell_type": "code",
   "execution_count": 60,
   "metadata": {},
   "outputs": [],
   "source": [
    "s=BeautifulSoup(Soup,'html.parser')"
   ]
  },
  {
   "cell_type": "code",
   "execution_count": 61,
   "metadata": {},
   "outputs": [
    {
     "name": "stdout",
     "output_type": "stream",
     "text": [
      "Bangladesh India\n",
      "WI315/9 (50.0 Ovs)SL338/6 (50.0 Ovs)Sri Lanka won by 23 runs\n",
      "IRE258/6 (48.3 Ovs)ZIM254/9 (50.0 Ovs)Ireland won by 4 wkts\n",
      "England Women Australia Women\n",
      "Bangladesh India\n",
      "WI315/9 (50.0 Ovs)SL338/6 (50.0 Ovs)Sri Lanka won by 23 runs\n",
      "IRE258/6 (48.3 Ovs)ZIM254/9 (50.0 Ovs)Ireland won by 4 wkts\n",
      "England Women Australia Women\n",
      "Bangladesh India\n",
      "WI315/9 (50.0 Ovs)SL338/6 (50.0 Ovs)Sri Lanka won by 23 runs\n",
      "PAKU..38/0 (5.0 Ovs)RSAU..Pakistan U19 opt to bat\n",
      "SUR362-all out (107.4 Ovs)YORK..327Day 2: Stumps - Surrey lead by 35 runs\n",
      "WARK..142/0 (47.0 Ovs)KENT585/7 declDay 2: Stumps - Warwickshire trail by 443 runs\n",
      "HAM329/8 (102.0 Ovs)SOM408Day 2: Stumps - Hampshire trail by 79 runs\n",
      "ESS345/3 (120.0 Ovs)NOTT..213Day 2: Stumps - Essex lead by 132 runs\n",
      "MDX135/3 (45.0 Ovs)DERB..557/6 declDay 2: Stumps - Middlesex trail by 422 runs\n",
      "WORC..191/5 (69.0 Ovs)GLAM449Day 2: Stumps - Worcestershire trail by 258 runs\n",
      "NOR273, 212/4 (56.0 Ovs)SUS106Day 2: Stumps - Northamptonshire lead by 379 runs\n",
      "DUR199/5 (72.0 Ovs)LANC..337Day 2: Stumps - Durham trail by 138 runs\n",
      "Gloucestershire Australia A\n"
     ]
    }
   ],
   "source": [
    "for i in s.find_all(\"div\",{\"class\":\"cb-col cb-col-25 cb-mtch-blk\"}):\n",
    "    print(i.text)"
   ]
  },
  {
   "cell_type": "code",
   "execution_count": 62,
   "metadata": {},
   "outputs": [
    {
     "data": {
      "text/plain": [
       "7"
      ]
     },
     "execution_count": 62,
     "metadata": {},
     "output_type": "execute_result"
    }
   ],
   "source": [
    "import random\n",
    "random.randint(1,10)"
   ]
  },
  {
   "cell_type": "code",
   "execution_count": 63,
   "metadata": {},
   "outputs": [
    {
     "ename": "ImportError",
     "evalue": "cannot import name 'textblob' from 'textblob' (C:\\Users\\db2admin.IBM-A70\\Anaconda3\\lib\\site-packages\\textblob\\__init__.py)",
     "output_type": "error",
     "traceback": [
      "\u001b[1;31m---------------------------------------------------------------------------\u001b[0m",
      "\u001b[1;31mImportError\u001b[0m                               Traceback (most recent call last)",
      "\u001b[1;32m<ipython-input-63-aa39ce890363>\u001b[0m in \u001b[0;36m<module>\u001b[1;34m\u001b[0m\n\u001b[1;32m----> 1\u001b[1;33m \u001b[1;32mfrom\u001b[0m \u001b[0mtextblob\u001b[0m \u001b[1;32mimport\u001b[0m \u001b[0mtextblob\u001b[0m\u001b[1;33m\u001b[0m\u001b[1;33m\u001b[0m\u001b[0m\n\u001b[0m\u001b[0;32m      2\u001b[0m \u001b[0ma\u001b[0m\u001b[1;33m=\u001b[0m\u001b[0mTextBlob\u001b[0m\u001b[1;33m(\u001b[0m\u001b[1;34m'i am happy'\u001b[0m\u001b[1;33m)\u001b[0m\u001b[1;33m\u001b[0m\u001b[1;33m\u001b[0m\u001b[0m\n\u001b[0;32m      3\u001b[0m \u001b[0mb\u001b[0m\u001b[1;33m=\u001b[0m\u001b[0ma\u001b[0m\u001b[1;33m.\u001b[0m\u001b[0msentiment\u001b[0m\u001b[1;33m\u001b[0m\u001b[1;33m\u001b[0m\u001b[0m\n\u001b[0;32m      4\u001b[0m \u001b[0mprint\u001b[0m\u001b[1;33m(\u001b[0m\u001b[0mb\u001b[0m\u001b[1;33m)\u001b[0m\u001b[1;33m\u001b[0m\u001b[1;33m\u001b[0m\u001b[0m\n",
      "\u001b[1;31mImportError\u001b[0m: cannot import name 'textblob' from 'textblob' (C:\\Users\\db2admin.IBM-A70\\Anaconda3\\lib\\site-packages\\textblob\\__init__.py)"
     ]
    }
   ],
   "source": [
    "from textblob import textblob\n",
    "a=TextBlob('i am happy')\n",
    "b=a.sentiment\n",
    "print(b)"
   ]
  },
  {
   "cell_type": "code",
   "execution_count": null,
   "metadata": {},
   "outputs": [],
   "source": [
    "pip install textblob"
   ]
  },
  {
   "cell_type": "code",
   "execution_count": null,
   "metadata": {},
   "outputs": [],
   "source": [
    "from textblob import textblob\n"
   ]
  },
  {
   "cell_type": "code",
   "execution_count": null,
   "metadata": {},
   "outputs": [],
   "source": [
    "import pandas as pd"
   ]
  },
  {
   "cell_type": "code",
   "execution_count": null,
   "metadata": {},
   "outputs": [],
   "source": [
    "s=[2,3,5]"
   ]
  },
  {
   "cell_type": "code",
   "execution_count": null,
   "metadata": {},
   "outputs": [],
   "source": [
    "a=pd.DataFrame(s)\n",
    "print(a)"
   ]
  },
  {
   "cell_type": "code",
   "execution_count": null,
   "metadata": {},
   "outputs": [],
   "source": [
    "a={'sudhanshu','keshav','rishabh','pradyumn'}"
   ]
  },
  {
   "cell_type": "code",
   "execution_count": null,
   "metadata": {},
   "outputs": [],
   "source": [
    "b=pd.DataFrame(a)\n",
    "print(b)"
   ]
  },
  {
   "cell_type": "code",
   "execution_count": null,
   "metadata": {},
   "outputs": [],
   "source": [
    "a={'sudhanshu:[2,1]','keshav:[3,4]','rishabh:[5,6]','pradyumn:[1,6]'}"
   ]
  },
  {
   "cell_type": "code",
   "execution_count": null,
   "metadata": {},
   "outputs": [],
   "source": [
    "b=pd.DataFrame(a)\n",
    "print(b)"
   ]
  },
  {
   "cell_type": "code",
   "execution_count": null,
   "metadata": {},
   "outputs": [],
   "source": []
  },
  {
   "cell_type": "code",
   "execution_count": null,
   "metadata": {},
   "outputs": [],
   "source": []
  },
  {
   "cell_type": "code",
   "execution_count": null,
   "metadata": {},
   "outputs": [],
   "source": [
    "import pandas as pd"
   ]
  },
  {
   "cell_type": "code",
   "execution_count": null,
   "metadata": {},
   "outputs": [],
   "source": [
    "r=pd.read_csv('sam.csv')\n",
    "print(r)"
   ]
  },
  {
   "cell_type": "code",
   "execution_count": null,
   "metadata": {},
   "outputs": [],
   "source": [
    "pd.DataFrame(r['policyID'])"
   ]
  },
  {
   "cell_type": "code",
   "execution_count": null,
   "metadata": {},
   "outputs": [],
   "source": [
    "b=r.iloc[3]"
   ]
  },
  {
   "cell_type": "code",
   "execution_count": null,
   "metadata": {},
   "outputs": [],
   "source": [
    "print(b)"
   ]
  },
  {
   "cell_type": "code",
   "execution_count": null,
   "metadata": {},
   "outputs": [],
   "source": [
    "l=pd.read_csv(\"sam.csv\",index_col='policyID')\n",
    "o=l.loc[448094]\n",
    "print(o)"
   ]
  },
  {
   "cell_type": "code",
   "execution_count": null,
   "metadata": {},
   "outputs": [],
   "source": [
    "import numpy as np"
   ]
  },
  {
   "cell_type": "code",
   "execution_count": null,
   "metadata": {},
   "outputs": [],
   "source": [
    "a=np.array([1,2,3])"
   ]
  },
  {
   "cell_type": "code",
   "execution_count": null,
   "metadata": {},
   "outputs": [],
   "source": [
    "print(a)"
   ]
  },
  {
   "cell_type": "code",
   "execution_count": null,
   "metadata": {},
   "outputs": [],
   "source": [
    "b=np.array([[1,2,3],[34,56]])"
   ]
  },
  {
   "cell_type": "code",
   "execution_count": null,
   "metadata": {},
   "outputs": [],
   "source": [
    "print(b)"
   ]
  },
  {
   "cell_type": "code",
   "execution_count": null,
   "metadata": {},
   "outputs": [],
   "source": [
    "c=np.array([[1,2],[3,4]])\n",
    "print(c)"
   ]
  },
  {
   "cell_type": "code",
   "execution_count": null,
   "metadata": {},
   "outputs": [],
   "source": [
    "d=np.array([[1,2,3],[3,4,4],[2,6,8]])\n",
    "print(d)"
   ]
  },
  {
   "cell_type": "code",
   "execution_count": null,
   "metadata": {},
   "outputs": [],
   "source": [
    "e=c+1"
   ]
  },
  {
   "cell_type": "code",
   "execution_count": null,
   "metadata": {},
   "outputs": [],
   "source": [
    "print(e)"
   ]
  },
  {
   "cell_type": "code",
   "execution_count": null,
   "metadata": {},
   "outputs": [],
   "source": [
    "f=np.add(c,e)"
   ]
  },
  {
   "cell_type": "code",
   "execution_count": null,
   "metadata": {},
   "outputs": [],
   "source": [
    "print(f)"
   ]
  },
  {
   "cell_type": "code",
   "execution_count": null,
   "metadata": {},
   "outputs": [],
   "source": [
    "f.T"
   ]
  },
  {
   "cell_type": "code",
   "execution_count": null,
   "metadata": {},
   "outputs": [],
   "source": [
    "f.sum()"
   ]
  },
  {
   "cell_type": "code",
   "execution_count": null,
   "metadata": {},
   "outputs": [],
   "source": [
    "f.dtype"
   ]
  },
  {
   "cell_type": "code",
   "execution_count": null,
   "metadata": {},
   "outputs": [],
   "source": [
    "np.sqrt(f)"
   ]
  },
  {
   "cell_type": "code",
   "execution_count": null,
   "metadata": {},
   "outputs": [],
   "source": [
    "np.square(f)"
   ]
  },
  {
   "cell_type": "code",
   "execution_count": null,
   "metadata": {},
   "outputs": [],
   "source": [
    "np.subtract(e,f)"
   ]
  },
  {
   "cell_type": "code",
   "execution_count": 1,
   "metadata": {},
   "outputs": [],
   "source": [
    "import matplotlib.pyplot as mpl\n",
    "x=[1,2,3]"
   ]
  },
  {
   "cell_type": "code",
   "execution_count": 2,
   "metadata": {},
   "outputs": [],
   "source": [
    "y=[4,5,6]"
   ]
  },
  {
   "cell_type": "code",
   "execution_count": 3,
   "metadata": {},
   "outputs": [
    {
     "data": {
      "text/plain": [
       "[<matplotlib.lines.Line2D at 0x28646b767b8>]"
      ]
     },
     "execution_count": 3,
     "metadata": {},
     "output_type": "execute_result"
    },
    {
     "data": {
      "image/png": "[encoded data removed]",
      "text/plain": [
       "<Figure size 432x288 with 1 Axes>"
      ]
     },
     "metadata": {
      "needs_background": "light"
     },
     "output_type": "display_data"
    }
   ],
   "source": [
    "mpl.plot(x,y)"
   ]
  },
  {
   "cell_type": "code",
   "execution_count": 4,
   "metadata": {},
   "outputs": [
    {
     "data": {
      "text/plain": [
       "<matplotlib.legend.Legend at 0x28646bf56d8>"
      ]
     },
     "execution_count": 4,
     "metadata": {},
     "output_type": "execute_result"
    },
    {
     "data": {
      "image/png": "[encoded data removed]",
      "text/plain": [
       "<Figure size 432x288 with 1 Axes>"
      ]
     },
     "metadata": {
      "needs_background": "light"
     },
     "output_type": "display_data"
    }
   ],
   "source": [
    "z=[1,5,6,10]\n",
    "mpl.plot(x,y,z)\n",
    "mpl.legend('hu')"
   ]
  },
  {
   "cell_type": "code",
   "execution_count": 5,
   "metadata": {},
   "outputs": [
    {
     "data": {
      "text/plain": [
       "[<matplotlib.lines.Line2D at 0x28646ca1278>]"
      ]
     },
     "execution_count": 5,
     "metadata": {},
     "output_type": "execute_result"
    },
    {
     "data": {
      "image/png": "[encoded data removed]",
      "text/plain": [
       "<Figure size 432x288 with 1 Axes>"
      ]
     },
     "metadata": {
      "needs_background": "light"
     },
     "output_type": "display_data"
    }
   ],
   "source": [
    "r=[1,3,6,7,3,]\n",
    "q=[1,11,2,6,9]\n",
    "mpl.plot(r,q)"
   ]
  },
  {
   "cell_type": "code",
   "execution_count": 6,
   "metadata": {},
   "outputs": [
    {
     "data": {
      "text/plain": [
       "[<matplotlib.lines.Line2D at 0x28646cf5c50>]"
      ]
     },
     "execution_count": 6,
     "metadata": {},
     "output_type": "execute_result"
    },
    {
     "data": {
      "image/png": "[encoded data removed]",
      "text/plain": [
       "<Figure size 432x288 with 1 Axes>"
      ]
     },
     "metadata": {
      "needs_background": "light"
     },
     "output_type": "display_data"
    }
   ],
   "source": [
    "mpl.xlabel('speed')\n",
    "mpl.ylabel('time')\n",
    "mpl.plot(r,q)"
   ]
  },
  {
   "cell_type": "code",
   "execution_count": 7,
   "metadata": {},
   "outputs": [
    {
     "data": {
      "text/plain": [
       "<matplotlib.legend.Legend at 0x28646d43438>"
      ]
     },
     "execution_count": 7,
     "metadata": {},
     "output_type": "execute_result"
    },
    {
     "data": {
      "image/png": "[encoded data removed]",
      "text/plain": [
       "<Figure size 432x288 with 1 Axes>"
      ]
     },
     "metadata": {
      "needs_background": "light"
     },
     "output_type": "display_data"
    }
   ],
   "source": [
    "mpl.xlabel('speed')\n",
    "mpl.ylabel('time')\n",
    "mpl.plot(r,q)\n",
    "mpl.title('speed of car per time')\n",
    "mpl.legend('h')"
   ]
  },
  {
   "cell_type": "code",
   "execution_count": 8,
   "metadata": {},
   "outputs": [
    {
     "data": {
      "image/png": "[encoded data removed]",
      "text/plain": [
       "<Figure size 432x288 with 1 Axes>"
      ]
     },
     "metadata": {
      "needs_background": "light"
     },
     "output_type": "display_data"
    }
   ],
   "source": [
    "mpl.xlabel('speed')\n",
    "mpl.ylabel('time')\n",
    "mpl.plot(r,q)\n",
    "mpl.title('speed of car per time')\n",
    "mpl.legend('h')\n",
    "mpl.show()"
   ]
  },
  {
   "cell_type": "code",
   "execution_count": 9,
   "metadata": {},
   "outputs": [
    {
     "data": {
      "text/plain": [
       "[<matplotlib.lines.Line2D at 0x28646c5f828>]"
      ]
     },
     "execution_count": 9,
     "metadata": {},
     "output_type": "execute_result"
    },
    {
     "data": {
      "image/png": "[encoded data removed]",
      "text/plain": [
       "<Figure size 432x288 with 1 Axes>"
      ]
     },
     "metadata": {
      "needs_background": "light"
     },
     "output_type": "display_data"
    }
   ],
   "source": [
    "mpl.plot(r,label='e',color='red')\n",
    "mpl.plot(q,label='f',color='black')\n"
   ]
  },
  {
   "cell_type": "code",
   "execution_count": 10,
   "metadata": {},
   "outputs": [
    {
     "data": {
      "text/plain": [
       "<BarContainer object of 3 artists>"
      ]
     },
     "execution_count": 10,
     "metadata": {},
     "output_type": "execute_result"
    },
    {
     "data": {
      "image/png": "[encoded data removed]",
      "text/plain": [
       "<Figure size 432x288 with 1 Axes>"
      ]
     },
     "metadata": {
      "needs_background": "light"
     },
     "output_type": "display_data"
    }
   ],
   "source": [
    "import matplotlib.pyplot as mpl\n",
    "a=[1,2,3]\n",
    "b=[2,5,8]\n",
    "mpl.bar(a,b,color=['orange','green','blue'])\n"
   ]
  },
  {
   "cell_type": "code",
   "execution_count": 11,
   "metadata": {},
   "outputs": [
    {
     "data": {
      "text/plain": [
       "<matplotlib.collections.PathCollection at 0x28646ee8d68>"
      ]
     },
     "execution_count": 11,
     "metadata": {},
     "output_type": "execute_result"
    },
    {
     "data": {
      "image/png": "[encoded data removed]",
      "text/plain": [
       "<Figure size 432x288 with 1 Axes>"
      ]
     },
     "metadata": {
      "needs_background": "light"
     },
     "output_type": "display_data"
    }
   ],
   "source": [
    "import  matplotlib.pyplot as mpl\n",
    "s=[23,4,55]\n",
    "t=[2,45,56]\n",
    "mpl.scatter(s,t)"
   ]
  },
  {
   "cell_type": "code",
   "execution_count": 14,
   "metadata": {},
   "outputs": [
    {
     "data": {
      "text/plain": [
       "<matplotlib.legend.Legend at 0x28646f84390>"
      ]
     },
     "execution_count": 14,
     "metadata": {},
     "output_type": "execute_result"
    },
    {
     "data": {
      "image/png": "[encoded data removed]",
      "text/plain": [
       "<Figure size 432x288 with 1 Axes>"
      ]
     },
     "metadata": {},
     "output_type": "display_data"
    }
   ],
   "source": [
    "u=[1,2,3,6,]\n",
    "v=['Pak','Aus','NZ','Ind']\n",
    "mpl.pie(u,shadow=True)\n",
    "mpl.legend(v)"
   ]
  },
  {
   "cell_type": "code",
   "execution_count": 8,
   "metadata": {},
   "outputs": [
    {
     "name": "stdout",
     "output_type": "stream",
     "text": [
      "Collecting pyautogui\n",
      "  Downloading https://files.pythonhosted.org/packages/97/ef/85e728ba825f94f84397534f463b87fa66cbb87f7ba2c0d27286174729c5/PyAutoGUI-0.9.45.tar.gz (51kB)\n",
      "Collecting pymsgbox (from pyautogui)\n",
      "  Downloading https://files.pythonhosted.org/packages/ac/e0/0ac1ac67178a71b92e46f46788ddd799bb40bff40acd60c47c50be170374/PyMsgBox-1.0.7.tar.gz\n",
      "Collecting PyTweening>=1.0.1 (from pyautogui)\n",
      "  Downloading https://files.pythonhosted.org/packages/b9/f8/c32a58d6e4dff8aa5c27e907194d69f3b57e525c2e4af96f39c6e9c854d2/PyTweening-1.0.3.zip\n",
      "Requirement already satisfied: Pillow in c:\\users\\db2admin.ibm-a70\\anaconda3\\lib\\site-packages (from pyautogui) (5.4.1)\n",
      "Collecting pyscreeze>=0.1.21 (from pyautogui)\n",
      "  Downloading https://files.pythonhosted.org/packages/51/11/878e1319ccb41dce8aaf1b6af84d5088d5f4a40fda0348e51b3d1d53f96b/PyScreeze-0.1.22.tar.gz\n",
      "Collecting pygetwindow>=0.0.5 (from pyautogui)\n",
      "  Downloading https://files.pythonhosted.org/packages/f7/fb/a339eeb9cf4b6a6de00e041d78eb94b98762599c03324d32f898aa9e5c4d/PyGetWindow-0.0.6.tar.gz\n",
      "Collecting pyrect (from pygetwindow>=0.0.5->pyautogui)\n",
      "  Downloading https://files.pythonhosted.org/packages/2f/68/bd7bf96fc44217e769f27912e6c9bb3e9987cba286054af6120448ce8212/PyRect-0.1.4.tar.gz\n",
      "Building wheels for collected packages: pyautogui, pymsgbox, PyTweening, pyscreeze, pygetwindow, pyrect\n",
      "  Building wheel for pyautogui (setup.py): started\n",
      "  Building wheel for pyautogui (setup.py): finished with status 'done'\n",
      "  Stored in directory: C:\\Users\\db2admin.IBM-A70\\AppData\\Local\\pip\\Cache\\wheels\\0d\\2f\\26\\8a97716b8b90f92f9d1db6b2ae14683266b1915875480fe285\n",
      "  Building wheel for pymsgbox (setup.py): started\n",
      "  Building wheel for pymsgbox (setup.py): finished with status 'done'\n",
      "  Stored in directory: C:\\Users\\db2admin.IBM-A70\\AppData\\Local\\pip\\Cache\\wheels\\8e\\62\\9f\\951a04461ec012e443f9aa172598fc8f9c6e409bf753687fad\n",
      "  Building wheel for PyTweening (setup.py): started\n",
      "  Building wheel for PyTweening (setup.py): finished with status 'done'\n",
      "  Stored in directory: C:\\Users\\db2admin.IBM-A70\\AppData\\Local\\pip\\Cache\\wheels\\7b\\92\\30\\06e21159eed2709436bfb6d7c690959e578cf74f029643866e\n",
      "  Building wheel for pyscreeze (setup.py): started\n",
      "  Building wheel for pyscreeze (setup.py): finished with status 'done'\n",
      "  Stored in directory: C:\\Users\\db2admin.IBM-A70\\AppData\\Local\\pip\\Cache\\wheels\\67\\80\\33\\cdcd648039bf4d1e0487abab6357007e0e7bb231cb311b303a\n",
      "  Building wheel for pygetwindow (setup.py): started\n",
      "  Building wheel for pygetwindow (setup.py): finished with status 'done'\n",
      "  Stored in directory: C:\\Users\\db2admin.IBM-A70\\AppData\\Local\\pip\\Cache\\wheels\\bb\\ee\\c4\\fe0280b3fb4fe892e5bb3f1cdfa215479b97a83bee7ee52ef0\n",
      "  Building wheel for pyrect (setup.py): started\n",
      "  Building wheel for pyrect (setup.py): finished with status 'done'\n",
      "  Stored in directory: C:\\Users\\db2admin.IBM-A70\\AppData\\Local\\pip\\Cache\\wheels\\3e\\61\\83\\8fd1478e984f7378e57972f5fd9bb0dbffc349fefc9efa5bf9\n",
      "Successfully built pyautogui pymsgbox PyTweening pyscreeze pygetwindow pyrect\n",
      "Installing collected packages: pymsgbox, PyTweening, pyscreeze, pyrect, pygetwindow, pyautogui\n",
      "Successfully installed PyTweening-1.0.3 pyautogui-0.9.45 pygetwindow-0.0.6 pymsgbox-1.0.7 pyrect-0.1.4 pyscreeze-0.1.22\n",
      "Note: you may need to restart the kernel to use updated packages.\n"
     ]
    }
   ],
   "source": [
    "pip install pyautogui"
   ]
  },
  {
   "cell_type": "code",
   "execution_count": 2,
   "metadata": {},
   "outputs": [],
   "source": [
    "import pyautogui as p"
   ]
  },
  {
   "cell_type": "code",
   "execution_count": 29,
   "metadata": {},
   "outputs": [],
   "source": [
    "import time"
   ]
  },
  {
   "cell_type": "code",
   "execution_count": 4,
   "metadata": {},
   "outputs": [
    {
     "data": {
      "text/plain": [
       "Point(x=543, y=743)"
      ]
     },
     "execution_count": 4,
     "metadata": {},
     "output_type": "execute_result"
    }
   ],
   "source": [
    "p.position()"
   ]
  },
  {
   "cell_type": "code",
   "execution_count": 5,
   "metadata": {},
   "outputs": [
    {
     "data": {
      "text/plain": [
       "Size(width=1440, height=900)"
      ]
     },
     "execution_count": 5,
     "metadata": {},
     "output_type": "execute_result"
    }
   ],
   "source": [
    "p.size()"
   ]
  },
  {
   "cell_type": "code",
   "execution_count": 6,
   "metadata": {},
   "outputs": [
    {
     "data": {
      "text/plain": [
       "Point(x=560, y=830)"
      ]
     },
     "execution_count": 6,
     "metadata": {},
     "output_type": "execute_result"
    }
   ],
   "source": [
    "p.position()"
   ]
  },
  {
   "cell_type": "code",
   "execution_count": 8,
   "metadata": {},
   "outputs": [],
   "source": [
    "p.click(x=1439, y=9)"
   ]
  },
  {
   "cell_type": "code",
   "execution_count": 24,
   "metadata": {},
   "outputs": [],
   "source": [
    "p.click()\n"
   ]
  },
  {
   "cell_type": "code",
   "execution_count": 20,
   "metadata": {},
   "outputs": [],
   "source": [
    "import time\n",
    "for i in range(100):\n",
    "    p.hotkey('alt', 'tab')\n",
    "    time.sleep(.0000000000000000001)"
   ]
  },
  {
   "cell_type": "code",
   "execution_count": null,
   "metadata": {},
   "outputs": [],
   "source": []
  }
 ],
 "metadata": {
  "kernelspec": {
   "display_name": "Python 3",
   "language": "python",
   "name": "python3"
  },
  "language_info": {
   "codemirror_mode": {
    "name": "ipython",
    "version": 3
   },
   "file_extension": ".py",
   "mimetype": "text/x-python",
   "name": "python",
   "nbconvert_exporter": "python",
   "pygments_lexer": "ipython3",
   "version": "3.7.3"
  }
 },
 "nbformat": 4,
 "nbformat_minor": 2
}
